{
 "cells": [
  {
   "cell_type": "markdown",
   "metadata": {},
   "source": [
    "<h3>Confidence Intervals</h3>\n",
    "<p>Say we are interested in constructing a confidence interval around the true parameter <em>p</em> of a Bernoulli random variable (a coin flip). If we look at the average value of the Bernoulli variables corresponding to each flip and get 525 heads out of 1000 flips, we estimate p equals 0.525."
   ]
  },
  {
   "cell_type": "code",
   "execution_count": 6,
   "metadata": {
    "collapsed": false
   },
   "outputs": [
    {
     "name": "stdout",
     "output_type": "stream",
     "text": [
      "mu = 0.525\n",
      "sigma = 0.0157916116974\n"
     ]
    }
   ],
   "source": [
    "from __future__ import division\n",
    "import math\n",
    "\n",
    "p_hat = 525 / 1000\n",
    "mu = p_hat\n",
    "sigma = math.sqrt(p_hat * (1 - p_hat) / 1000)\n",
    "\n",
    "print \"mu =\", mu\n",
    "print \"sigma =\", sigma"
   ]
  },
  {
   "cell_type": "code",
   "execution_count": 11,
   "metadata": {
    "collapsed": false
   },
   "outputs": [
    {
     "name": "stdout",
     "output_type": "stream",
     "text": [
      "(0.49404900981534522, 0.55595099018465477)\n"
     ]
    }
   ],
   "source": [
    "from scipy import stats\n",
    "\n",
    "def normal_two_sided_bounds(probability, mu=0, sigma=1):\n",
    "    tail_probability = (1 - probability) / 2\n",
    "    \n",
    "    upper_bound = stats.norm.ppf(1 - tail_probability, mu, sigma)\n",
    "    lower_bound = stats.norm.ppf(tail_probability, mu, sigma)\n",
    "    \n",
    "    return lower_bound, upper_bound\n",
    "\n",
    "print normal_two_sided_bounds(0.95, mu, sigma)"
   ]
  },
  {
   "cell_type": "markdown",
   "metadata": {},
   "source": [
    "<p>The above is a 95% confidence interval for the true parameter <em>p</em>. That is to say, if we kept running Binomial trials (which yield sample means for the <em>p</em> parameter of the Bernoulli random variable) and creating intervals as above, 95% of the time the resulting interval we'd create would contain the true parameter value <em>p</em>. </p>\n",
    "<p> Since we mean to test whether the true parameter value is 0.5 and (loosely speaking) the above interval has a 95% chance of being one that contains the true parameter, and since 0.5 is in the above interval, 0.5 passes the test and we accept the hypothesis that the coin is fair."
   ]
  },
  {
   "cell_type": "code",
   "execution_count": null,
   "metadata": {
    "collapsed": true
   },
   "outputs": [],
   "source": []
  }
 ],
 "metadata": {
  "kernelspec": {
   "display_name": "Python 2",
   "language": "python",
   "name": "python2"
  },
  "language_info": {
   "codemirror_mode": {
    "name": "ipython",
    "version": 2
   },
   "file_extension": ".py",
   "mimetype": "text/x-python",
   "name": "python",
   "nbconvert_exporter": "python",
   "pygments_lexer": "ipython2",
   "version": "2.7.9"
  }
 },
 "nbformat": 4,
 "nbformat_minor": 0
}
