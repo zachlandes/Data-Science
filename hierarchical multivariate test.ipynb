{
 "cells": [
  {
   "cell_type": "code",
   "execution_count": 1,
   "metadata": {
    "collapsed": false
   },
   "outputs": [],
   "source": [
    "from pymc import Beta, Binomial, stochastic, Model\n",
    "import numpy as np\n",
    "\n",
    "# the data\n",
    "trials = np.array([100, 100, 100, 100, 100, 100, 100, 100, 100, 100])\n",
    "successes = np.array([40, 44, 47, 54, 63, 46, 44, 49, 58, 50])\n",
    "\n",
    "# hyperparameters\n",
    "@stochastic(dtype=np.float64)\n",
    "def hyperpriors(value=[1.0, 1.0]):\n",
    "    a = value[0]\n",
    "    b = value[1]\n",
    "    if a <= 0 or b <= 0:\n",
    "        return -np.inf\n",
    "    else:\n",
    "        return np.log(np.power((a + b), -2.5))\n",
    "\n",
    "a = hyperpriors[0]\n",
    "b = hyperpriors[1]\n",
    "\n",
    "# the p_i, what we'd like to estimate\n",
    "success_rates = Beta('success_rates', a, b, size=10)\n",
    "\n",
    "# what we observed\n",
    "observed_values = Binomial('observed_values', trials, success_rates, value=successes, observed=True)\n"
   ]
  },
  {
   "cell_type": "code",
   "execution_count": 2,
   "metadata": {
    "collapsed": false
   },
   "outputs": [
    {
     "data": {
      "text/plain": [
       "{'alpha': <pymc.CommonDeterministics.Index 'hyperpriors[0]' at 0x10429acd0>,\n",
       " 'beta': <pymc.CommonDeterministics.Index 'hyperpriors[1]' at 0x10429a210>}"
      ]
     },
     "execution_count": 2,
     "metadata": {},
     "output_type": "execute_result"
    }
   ],
   "source": [
    "import ctr_model\n",
    "\n",
    "ctr_model.success_rates.parents"
   ]
  },
  {
   "cell_type": "code",
   "execution_count": 3,
   "metadata": {
    "collapsed": false
   },
   "outputs": [
    {
     "data": {
      "text/plain": [
       "{<pymc.distributions.Binomial 'observed_values' at 0x1042ac150>}"
      ]
     },
     "execution_count": 3,
     "metadata": {},
     "output_type": "execute_result"
    }
   ],
   "source": [
    "ctr_model.success_rates.children"
   ]
  },
  {
   "cell_type": "code",
   "execution_count": 4,
   "metadata": {
    "collapsed": false
   },
   "outputs": [
    {
     "data": {
      "text/plain": [
       "{<pymc.CommonDeterministics.Index 'hyperpriors[0]' at 0x10429acd0>,\n",
       " <pymc.CommonDeterministics.Index 'hyperpriors[1]' at 0x10429a210>}"
      ]
     },
     "execution_count": 4,
     "metadata": {},
     "output_type": "execute_result"
    }
   ],
   "source": [
    "ctr_model.hyperpriors.children"
   ]
  },
  {
   "cell_type": "code",
   "execution_count": 5,
   "metadata": {
    "collapsed": false
   },
   "outputs": [
    {
     "data": {
      "text/plain": [
       "{'n': array([100, 100, 100, 100, 100, 100, 100, 100, 100, 100]),\n",
       " 'p': <pymc.distributions.Beta 'success_rates' at 0x1042ac910>}"
      ]
     },
     "execution_count": 5,
     "metadata": {},
     "output_type": "execute_result"
    }
   ],
   "source": [
    "ctr_model.observed_values.parents"
   ]
  },
  {
   "cell_type": "code",
   "execution_count": 6,
   "metadata": {
    "collapsed": false
   },
   "outputs": [
    {
     "data": {
      "text/plain": [
       "array([ 0.12230275,  0.59300434,  0.6972255 ,  0.79553351,  0.82471505,\n",
       "        0.94896163,  0.69187488,  0.30546014,  0.36664579,  0.53065588])"
      ]
     },
     "execution_count": 6,
     "metadata": {},
     "output_type": "execute_result"
    }
   ],
   "source": [
    "ctr_model.success_rates.value"
   ]
  },
  {
   "cell_type": "code",
   "execution_count": 7,
   "metadata": {
    "collapsed": false
   },
   "outputs": [
    {
     "data": {
      "text/plain": [
       "array([40, 44, 47, 54, 63, 46, 44, 49, 58, 50])"
      ]
     },
     "execution_count": 7,
     "metadata": {},
     "output_type": "execute_result"
    }
   ],
   "source": [
    "ctr_model.observed_values.value"
   ]
  },
  {
   "cell_type": "code",
   "execution_count": 8,
   "metadata": {
    "collapsed": false
   },
   "outputs": [
    {
     "data": {
      "text/plain": [
       "1.0"
      ]
     },
     "execution_count": 8,
     "metadata": {},
     "output_type": "execute_result"
    }
   ],
   "source": [
    "ctr_model.a.value"
   ]
  },
  {
   "cell_type": "code",
   "execution_count": 9,
   "metadata": {
    "collapsed": false
   },
   "outputs": [
    {
     "data": {
      "text/plain": [
       "1.0"
      ]
     },
     "execution_count": 9,
     "metadata": {},
     "output_type": "execute_result"
    }
   ],
   "source": [
    "ctr_model.b.value"
   ]
  },
  {
   "cell_type": "code",
   "execution_count": 10,
   "metadata": {
    "collapsed": false
   },
   "outputs": [
    {
     "name": "stdout",
     "output_type": "stream",
     "text": [
      " [-----------------100%-----------------] 1000000 of 1000000 complete in 101.7 sec"
     ]
    }
   ],
   "source": [
    "from pymc import MCMC\n",
    "\n",
    "M = MCMC(ctr_model)\n",
    "\n",
    "M.sample(iter=1000000, burn=500000)"
   ]
  },
  {
   "cell_type": "code",
   "execution_count": 11,
   "metadata": {
    "collapsed": false
   },
   "outputs": [
    {
     "data": {
      "text/plain": [
       "array([[ 0.48052472,  0.44129665,  0.4602393 ,  0.51788941,  0.56718527,\n",
       "         0.48101306,  0.54466724,  0.49002793,  0.5668004 ,  0.52551358],\n",
       "       [ 0.47732863,  0.42249446,  0.50154238,  0.5109804 ,  0.53048356,\n",
       "         0.49140116,  0.54776272,  0.49645121,  0.56933452,  0.51005515],\n",
       "       [ 0.47999471,  0.43299227,  0.46681665,  0.50791968,  0.55989   ,\n",
       "         0.51738099,  0.53595546,  0.49644799,  0.55620942,  0.50766148],\n",
       "       [ 0.47999471,  0.43299227,  0.46681665,  0.50791968,  0.55989   ,\n",
       "         0.51738099,  0.53595546,  0.49644799,  0.55620942,  0.50766148],\n",
       "       [ 0.48249513,  0.44213237,  0.50563164,  0.50870072,  0.60106347,\n",
       "         0.50496682,  0.49926038,  0.50132974,  0.54514174,  0.48916611],\n",
       "       [ 0.48249513,  0.44213237,  0.50563164,  0.50870072,  0.60106347,\n",
       "         0.50496682,  0.49926038,  0.50132974,  0.54514174,  0.48916611],\n",
       "       [ 0.47679382,  0.43693968,  0.48082616,  0.51900678,  0.59363822,\n",
       "         0.49110934,  0.49737611,  0.50966812,  0.55180707,  0.47331339],\n",
       "       [ 0.47679382,  0.43693968,  0.48082616,  0.51900678,  0.59363822,\n",
       "         0.49110934,  0.49737611,  0.50966812,  0.55180707,  0.47331339],\n",
       "       [ 0.47679382,  0.43693968,  0.48082616,  0.51900678,  0.59363822,\n",
       "         0.49110934,  0.49737611,  0.50966812,  0.55180707,  0.47331339],\n",
       "       [ 0.47679382,  0.43693968,  0.48082616,  0.51900678,  0.59363822,\n",
       "         0.49110934,  0.49737611,  0.50966812,  0.55180707,  0.47331339]])"
      ]
     },
     "execution_count": 11,
     "metadata": {},
     "output_type": "execute_result"
    }
   ],
   "source": [
    "M.trace(success_rates)[-10:]"
   ]
  },
  {
   "cell_type": "code",
   "execution_count": 12,
   "metadata": {
    "collapsed": false
   },
   "outputs": [
    {
     "data": {
      "image/png": "[encoded data removed]",
      "text/plain": [
       "<matplotlib.figure.Figure at 0x10f657590>"
      ]
     },
     "metadata": {},
     "output_type": "display_data"
    }
   ],
   "source": [
    "%matplotlib inline\n",
    "import seaborn as sns\n",
    "\n",
    "posteriors = []\n",
    "for i in range(10):\n",
    "    posteriors.append(M.trace(success_rates)[:][:,i]) # gets column i from all the rows\n",
    "\n",
    "for posterior in posteriors:\n",
    "    sns.kdeplot(posterior, shade=True)"
   ]
  },
  {
   "cell_type": "code",
   "execution_count": 14,
   "metadata": {
    "collapsed": false
   },
   "outputs": [
    {
     "data": {
      "text/plain": [
       "58.208493454484696"
      ]
     },
     "execution_count": 14,
     "metadata": {},
     "output_type": "execute_result"
    }
   ],
   "source": [
    "ctr_model.a.value"
   ]
  },
  {
   "cell_type": "code",
   "execution_count": 15,
   "metadata": {
    "collapsed": false
   },
   "outputs": [
    {
     "data": {
      "text/plain": [
       "55.894378047933131"
      ]
     },
     "execution_count": 15,
     "metadata": {},
     "output_type": "execute_result"
    }
   ],
   "source": [
    "ctr_model.b.value"
   ]
  },
  {
   "cell_type": "code",
   "execution_count": 19,
   "metadata": {
    "collapsed": false
   },
   "outputs": [
    {
     "name": "stdout",
     "output_type": "stream",
     "text": [
      "\n",
      "success_rates:\n",
      " \n",
      "\tMean             SD               MC Error        95% HPD interval\n",
      "\t------------------------------------------------------------------\n",
      "\t0.445            0.041            0.002            [ 0.362  0.521]\n",
      "\t0.466            0.039            0.001            [ 0.388  0.541]\n",
      "\t0.482            0.038            0.0              [ 0.406  0.557]\n",
      "\t0.519            0.039            0.001            [ 0.446  0.598]\n",
      "\t0.567            0.046            0.001            [ 0.481  0.658]\n",
      "\t0.476            0.039            0.0              [ 0.398  0.551]\n",
      "\t0.466            0.039            0.001            [ 0.387  0.542]\n",
      "\t0.492            0.038            0.001            [ 0.417  0.568]\n",
      "\t0.539            0.041            0.001            [ 0.463  0.621]\n",
      "\t0.497            0.038            0.001            [ 0.421  0.571]\n",
      "\t\n",
      "\t\n",
      "\tPosterior quantiles:\n",
      "\t\n",
      "\t2.5             25              50              75             97.5\n",
      "\t |---------------|===============|===============|---------------|\n",
      "\t0.358            0.417           0.446          0.474         0.518\n",
      "\t0.385            0.441           0.468          0.493         0.538\n",
      "\t0.404            0.457           0.482          0.507         0.556\n",
      "\t0.446            0.492           0.517          0.544         0.599\n",
      "\t0.484            0.534           0.565          0.598         0.66\n",
      "\t0.397            0.451           0.477          0.502         0.55\n",
      "\t0.384            0.44            0.467          0.492         0.54\n",
      "\t0.416            0.467           0.492          0.517         0.566\n",
      "\t0.466            0.51            0.537          0.566         0.625\n",
      "\t0.423            0.472           0.497          0.522         0.573\n",
      "\t\n"
     ]
    }
   ],
   "source": [
    "M.success_rates.summary()"
   ]
  },
  {
   "cell_type": "code",
   "execution_count": null,
   "metadata": {
    "collapsed": true
   },
   "outputs": [],
   "source": []
  }
 ],
 "metadata": {
  "kernelspec": {
   "display_name": "Python 2",
   "language": "python",
   "name": "python2"
  },
  "language_info": {
   "codemirror_mode": {
    "name": "ipython",
    "version": 2
   },
   "file_extension": ".py",
   "mimetype": "text/x-python",
   "name": "python",
   "nbconvert_exporter": "python",
   "pygments_lexer": "ipython2",
   "version": "2.7.10"
  }
 },
 "nbformat": 4,
 "nbformat_minor": 0
}
