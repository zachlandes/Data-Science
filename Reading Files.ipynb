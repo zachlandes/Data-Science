{
 "cells": [
  {
   "cell_type": "code",
   "execution_count": null,
   "metadata": {
    "collapsed": true
   },
   "outputs": [],
   "source": [
    "file_for_reading = open('reading_file.txt', 'r')\n",
    "\n",
    "file_for_writing = open('writing_file.txt', 'w')\n",
    "\n",
    "file_for_appending = open('appending_file.txt', 'a')\n",
    "\n",
    "file_for_writing.close()\n",
    "\n",
    "with open(filename, 'r') as f:\n",
    "    data = function_that_gets_data_from(f)\n",
    "    "
   ]
  },
  {
   "cell_type": "code",
   "execution_count": 4,
   "metadata": {
    "collapsed": false
   },
   "outputs": [
    {
     "name": "stdout",
     "output_type": "stream",
     "text": [
      "Counter({'gmail.com': 2, 'aol.com': 1})\n"
     ]
    }
   ],
   "source": [
    "from collections import Counter\n",
    "\n",
    "def get_domain(email_address):\n",
    "    return email_address.lower().split(\"@\")[-1] #get_username would be [0] or [-2]\n",
    "\n",
    "with open('email_addresses.txt', 'r') as f:\n",
    "    domain_counts = Counter(get_domain(line.strip())\n",
    "                            for line in f\n",
    "                            if \"@\" in line)\n",
    "print domain_counts"
   ]
  },
  {
   "cell_type": "markdown",
   "metadata": {},
   "source": [
    "<h4>Delimited Files</h4>"
   ]
  },
  {
   "cell_type": "code",
   "execution_count": 8,
   "metadata": {
    "collapsed": false
   },
   "outputs": [
    {
     "name": "stdout",
     "output_type": "stream",
     "text": [
      "6/20/14 AAPL 90.91\n",
      "6/20/14 MSFT 41.68\n",
      "6/20/14 FB 64.5\n",
      "6/19/14 AAPL 91.86\n",
      "6/19/14 MSFT 41.51\n",
      "6/19/14 FB 64.34\n"
     ]
    }
   ],
   "source": [
    "import csv\n",
    "\n",
    "with open('stocksnoheader.csv', 'rb') as f:\n",
    "    reader = csv.reader(f, delimiter=',')\n",
    "    for row in reader:\n",
    "        date = row[0]\n",
    "        symbol = row[1]\n",
    "        closing_price = float(row[2])\n",
    "        print date, symbol, closing_price"
   ]
  },
  {
   "cell_type": "code",
   "execution_count": 14,
   "metadata": {
    "collapsed": false
   },
   "outputs": [
    {
     "name": "stdout",
     "output_type": "stream",
     "text": [
      "6/20/14 AAPL 90.91\n",
      "6/20/14 MSFT 41.68\n",
      "6/20/14 FB 64.5\n",
      "6/19/14 AAPL 91.86\n",
      "6/19/14 MSFT 41.51\n",
      "6/19/14 FB 64.34\n"
     ]
    }
   ],
   "source": [
    "with open('stocksheader.csv', 'rb') as f:\n",
    "    reader = csv.DictReader(f, delimiter=',') #creates a dict for each row with headers as keys\n",
    "    for row in reader: #for each dictionary(row) in reader\n",
    "        date = row[\"date\"] #set date = that dictionary's (row's) value at key = \"date\", etc.\n",
    "        symbol = row[\"symbol\"]\n",
    "        closing_price = float(row[\"closing_price\"])\n",
    "        print date, symbol, closing_price"
   ]
  },
  {
   "cell_type": "markdown",
   "metadata": {},
   "source": [
    "<p>When there is no header in the file but we would like to work with headers for whatever reason, we can add them as an argument of the DictReader method</p>"
   ]
  },
  {
   "cell_type": "code",
   "execution_count": 15,
   "metadata": {
    "collapsed": false,
    "scrolled": true
   },
   "outputs": [
    {
     "name": "stdout",
     "output_type": "stream",
     "text": [
      "6/20/14 AAPL 90.91\n",
      "6/20/14 MSFT 41.68\n",
      "6/20/14 FB 64.5\n",
      "6/19/14 AAPL 91.86\n",
      "6/19/14 MSFT 41.51\n",
      "6/19/14 FB 64.34\n"
     ]
    }
   ],
   "source": [
    "with open('stocksnoheader.csv', 'rb') as f:\n",
    "    reader = csv.DictReader(f, fieldnames=(\"date\", \"symbol\", \"closing_price\"), delimiter=',') #creates a dict for each row with headers as keys\n",
    "    for row in reader: #for each dictionary(row) in reader\n",
    "        date = row[\"date\"] #set date = that dictionary's (row's) value at key = \"date\", etc.\n",
    "        symbol = row[\"symbol\"]\n",
    "        closing_price = float(row[\"closing_price\"])\n",
    "        print date, symbol, closing_price"
   ]
  },
  {
   "cell_type": "code",
   "execution_count": 17,
   "metadata": {
    "collapsed": false
   },
   "outputs": [],
   "source": [
    "today_prices = {'AAPL' : 90.91, 'MSFT' : 41.68, 'FB' : 64.5}\n",
    "\n",
    "with open('comma_delimited_stock_prices.txt', 'wb') as f:\n",
    "    writer = csv.writer(f, delimiter=',')\n",
    "    for stock, price in today_prices.items():\n",
    "        writer.writerow([stock, price])"
   ]
  },
  {
   "cell_type": "code",
   "execution_count": 18,
   "metadata": {
    "collapsed": false
   },
   "outputs": [
    {
     "name": "stdout",
     "output_type": "stream",
     "text": [
      "AAPL 90.91\n",
      "FB 64.5\n",
      "MSFT 41.68\n"
     ]
    }
   ],
   "source": [
    "with open('comma_delimited_stock_prices.txt', 'rb') as f:\n",
    "    reader = csv.reader(f, delimiter=',')\n",
    "    for row in reader:\n",
    "        stock = row[0]\n",
    "        closing_price = row[1]\n",
    "        print stock, closing_price"
   ]
  },
  {
   "cell_type": "code",
   "execution_count": null,
   "metadata": {
    "collapsed": true
   },
   "outputs": [],
   "source": []
  }
 ],
 "metadata": {
  "kernelspec": {
   "display_name": "Python 2",
   "language": "python",
   "name": "python2"
  },
  "language_info": {
   "codemirror_mode": {
    "name": "ipython",
    "version": 2
   },
   "file_extension": ".py",
   "mimetype": "text/x-python",
   "name": "python",
   "nbconvert_exporter": "python",
   "pygments_lexer": "ipython2",
   "version": "2.7.9"
  }
 },
 "nbformat": 4,
 "nbformat_minor": 0
}
