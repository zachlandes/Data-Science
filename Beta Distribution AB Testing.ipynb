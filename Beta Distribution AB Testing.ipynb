{
 "cells": [
  {
   "cell_type": "code",
   "execution_count": 3,
   "metadata": {
    "collapsed": false
   },
   "outputs": [
    {
     "data": {
      "text/plain": [
       "<matplotlib.axes._subplots.AxesSubplot at 0x108e66e10>"
      ]
     },
     "execution_count": 3,
     "metadata": {},
     "output_type": "execute_result"
    },
    {
     "data": {
      "image/png": "[encoded data removed]",
      "text/plain": [
       "<matplotlib.figure.Figure at 0x10373bc50>"
      ]
     },
     "metadata": {},
     "output_type": "display_data"
    }
   ],
   "source": [
    "%matplotlib inline\n",
    "import numpy as np\n",
    "from matplotlib import pyplot as plt\n",
    "import seaborn as sns\n",
    "\n",
    "true_rates = np.random.uniform(0, 1, size=10000000) # array of 10,000,000 values from [0,1] chosen uniformly at rand\n",
    "\n",
    "obs = np.random.binomial(100, true_rates) # array of single sample success rates from the 10,000,000 \n",
    "                                          # bin(100, true_rates) random variables\n",
    "\n",
    "obs60_indices = np.where(obs==60)         # array of indexes for above observations where # of successes = 60/100\n",
    "\n",
    "sns.distplot(true_rates[obs60_indices])   # plot a histogram of observations where # of successes = 60/100\n",
    "                                          # w/ x = underlying success probability"
   ]
  },
  {
   "cell_type": "code",
   "execution_count": 6,
   "metadata": {
    "collapsed": false
   },
   "outputs": [
    {
     "name": "stdout",
     "output_type": "stream",
     "text": [
      "[ True  True False] 0.666666666667\n"
     ]
    }
   ],
   "source": [
    "import numpy as np\n",
    "\n",
    "a = np.array([1, 2, 3])\n",
    "b = np.array([0, 1, 4])\n",
    "print a>b, np.mean(a>b)"
   ]
  },
  {
   "cell_type": "markdown",
   "metadata": {
    "collapsed": true
   },
   "source": [
    "<h2>An A/B Test</h2>\n",
    "<p>Imagine we have two versions of a web page, an original, 'A', and a new version, 'B'. After running the tests we find:\n",
    "    <ul>\n",
    "        <li>Page A Conversion: 31 clicks / 642 views</li>\n",
    "        <li>Page B Conversion: 44 clicks / 642 views</li>\n",
    "    </ul>\n",
    "</p>"
   ]
  },
  {
   "cell_type": "code",
   "execution_count": 7,
   "metadata": {
    "collapsed": false
   },
   "outputs": [
    {
     "name": "stdout",
     "output_type": "stream",
     "text": [
      "0.0605\n"
     ]
    }
   ],
   "source": [
    "import numpy as np\n",
    "\n",
    "k_a, n_a = 31, 642\n",
    "k_b, n_b = 44, 642\n",
    "\n",
    "A_Samples = np.random.beta(k_a + 1, n_a - k_a + 1, size = 10000) # prior for both is beta(1,1)\n",
    "B_Samples = np.random.beta(k_b + 1, n_b - k_b + 1, size = 10000)\n",
    "\n",
    "# given these posterior distributions, P(B_Conv > A_Conv) is:\n",
    "result = np.mean(A_Samples > B_Samples) # A_Samples > B_Samples returns array of booleans after pairwise comparison\n",
    "                                        # and the mean is the proportion of these comparisons that returned True\n",
    "print result"
   ]
  },
  {
   "cell_type": "markdown",
   "metadata": {},
   "source": [
    "<p>So we have a 6.05% chance that A is better than B and the 5% significance level of the test has not been achieved, so we fail to reject the null that A is better than B. <br>\n",
    "Had we instead observed 66 clicks out of 642 views of Page B we would find:</p>"
   ]
  },
  {
   "cell_type": "code",
   "execution_count": 11,
   "metadata": {
    "collapsed": false
   },
   "outputs": [
    {
     "name": "stdout",
     "output_type": "stream",
     "text": [
      "0.0002\n"
     ]
    }
   ],
   "source": [
    "k_b = 66\n",
    "\n",
    "A_Samples = np.random.beta(k_a + 1, n_a - k_a + 1, size = 10000) \n",
    "B_Samples = np.random.beta(k_b + 1, n_b - k_b + 1, size = 10000)\n",
    "\n",
    "result = np.mean(A_Samples > B_Samples)\n",
    "\n",
    "print result"
   ]
  },
  {
   "cell_type": "markdown",
   "metadata": {},
   "source": [
    "<p>And we are sure to reject the Null and consider Page B to have a higher conversion rate </p>"
   ]
  },
  {
   "cell_type": "markdown",
   "metadata": {},
   "source": [
    "<h4>Credible Intervals</h4>\n",
    "<p>Saw we would like to find a 95% credible interval for the posterior of Page B CTR. Imagine that we had a much longer test and our posterior is <br> <tt>Beta(435, 39000)</tt>. One solution is to find the interval in which the middle 95% of the samples lie.</p>"
   ]
  },
  {
   "cell_type": "code",
   "execution_count": 19,
   "metadata": {
    "collapsed": false
   },
   "outputs": [
    {
     "name": "stdout",
     "output_type": "stream",
     "text": [
      "The 95% Credible Interval for the CTR of Page B is: (0.010157, 0.012244)\n"
     ]
    }
   ],
   "source": [
    "k_b, n_b = 435, 39000\n",
    "\n",
    "B_Samples = np.random.beta(k_b + 1, n_b - k_b + 1, size = 10000)\n",
    "lower_bound = np.percentile(B_Samples, 2.5)\n",
    "upper_bound = np.percentile(B_Samples, 97.5)\n",
    "\n",
    "print \"The 95%% Credible Interval for the CTR of Page B is: (%f, %f)\" % (lower_bound, upper_bound)"
   ]
  }
 ],
 "metadata": {
  "kernelspec": {
   "display_name": "Python 2",
   "language": "python",
   "name": "python2"
  },
  "language_info": {
   "codemirror_mode": {
    "name": "ipython",
    "version": 2
   },
   "file_extension": ".py",
   "mimetype": "text/x-python",
   "name": "python",
   "nbconvert_exporter": "python",
   "pygments_lexer": "ipython2",
   "version": "2.7.10"
  }
 },
 "nbformat": 4,
 "nbformat_minor": 0
}
