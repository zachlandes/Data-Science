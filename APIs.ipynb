{
 "cells": [
  {
   "cell_type": "code",
   "execution_count": 1,
   "metadata": {
    "collapsed": false
   },
   "outputs": [
    {
     "name": "stdout",
     "output_type": "stream",
     "text": [
      "{u'publicationYear': 2014, u'author': u'Joel Grus', u'topics': [u'data', u'science', u'data science'], u'title': u'Data Science Book'}\n"
     ]
    }
   ],
   "source": [
    "import json\n",
    "serialized = \"\"\"{\"title\" : \"Data Science Book\",\n",
    "                 \"author\" : \"Joel Grus\",\n",
    "                 \"publicationYear\" : 2014,\n",
    "                 \"topics\" : [\"data\", \"science\", \"data science\"]}\"\"\"\n",
    "\n",
    "deserialized = json.loads(serialized)\n",
    "if \"data science\" in deserialized[\"topics\"]:\n",
    "    print deserialized"
   ]
  },
  {
   "cell_type": "code",
   "execution_count": 8,
   "metadata": {
    "collapsed": false
   },
   "outputs": [],
   "source": [
    "import requests, json\n",
    "endpoint = \"https://api.github.com/users/joelgrus/repos\"\n",
    "\n",
    "repos = json.loads(requests.get(endpoint).text)"
   ]
  },
  {
   "cell_type": "code",
   "execution_count": 41,
   "metadata": {
    "collapsed": false
   },
   "outputs": [
    {
     "name": "stdout",
     "output_type": "stream",
     "text": [
      "[(2, 2), (4, 1), (5, 2), (6, 3), (7, 6), (8, 2), (9, 2), (11, 3), (12, 1)]\n",
      "[(1, 0), (2, 2), (3, 0), (4, 1), (5, 2), (6, 3), (7, 6), (8, 2), (9, 2), (10, 0), (11, 3), (12, 1)]\n"
     ]
    },
    {
     "data": {
      "image/png": "[encoded data removed]",
      "text/plain": [
       "<matplotlib.figure.Figure at 0x1039d9850>"
      ]
     },
     "metadata": {},
     "output_type": "display_data"
    }
   ],
   "source": [
    "from dateutil.parser import parse\n",
    "from collections import Counter\n",
    "\n",
    "dates = [parse(repo[\"created_at\"]) for repo in repos]      # each 'repo' is a dict in the list of dicts, 'repos'\n",
    "month_counts = Counter(date.month for date in dates)       # month is a function available for parse objects of dateutil \n",
    "weekday_counts = Counter(date.weekday() for date in dates) # so here we have counters like {Month: Count of Months}\n",
    "\n",
    "sorted_counts = sorted(month_counts.items())\n",
    "\n",
    "print sorted_counts\n",
    "\n",
    "months = range(1, 13)\n",
    "for i in months:                                               # for each month\n",
    "    if not [pair for pair in sorted_counts if pair[0] == i]:   # a list of tuples in sorted_counts whose first element\n",
    "        sorted_counts.insert(i-1, (i,0))                       # = that month, if empty, adds a tuple of (month, 0)\n",
    "print sorted_counts\n",
    "\n",
    "months, counts = zip(*sorted_counts)\n",
    "\n",
    "%matplotlib inline\n",
    "from matplotlib import pyplot as plt\n",
    "\n",
    "xs = [i + 0.1 for i in months]\n",
    "plt.bar(xs, counts, color = 'g')\n",
    "\n",
    "plt.ylabel(\"# of Repos\")\n",
    "plt.title(\"Repos by Creation Month\")\n",
    "\n",
    "plt.xticks([i + 0.5 for i in months], months)\n",
    "plt.xlabel(\"Month\")\n",
    "\n",
    "plt.show()\n"
   ]
  },
  {
   "cell_type": "markdown",
   "metadata": {},
   "source": []
  }
 ],
 "metadata": {
  "kernelspec": {
   "display_name": "Python 2",
   "language": "python",
   "name": "python2"
  },
  "language_info": {
   "codemirror_mode": {
    "name": "ipython",
    "version": 2
   },
   "file_extension": ".py",
   "mimetype": "text/x-python",
   "name": "python",
   "nbconvert_exporter": "python",
   "pygments_lexer": "ipython2",
   "version": "2.7.9"
  }
 },
 "nbformat": 4,
 "nbformat_minor": 0
}
