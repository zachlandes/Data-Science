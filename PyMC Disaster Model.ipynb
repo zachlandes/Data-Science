{
 "cells": [
  {
   "cell_type": "markdown",
   "metadata": {},
   "source": [
    "<a href=\"https://pymc-devs.github.io/pymc/tutorial.html\">PyMC Tutorial</a>\n",
    "<h3>The Model:</h3>"
   ]
  },
  {
   "cell_type": "code",
   "execution_count": 3,
   "metadata": {
    "collapsed": false
   },
   "outputs": [],
   "source": [
    "from pymc import DiscreteUniform, Exponential, deterministic, Poisson, Uniform\n",
    "import numpy as np\n",
    "\n",
    "disasters_array = \\\n",
    "        np.array([ 4, 5, 4, 0, 1, 4, 3, 4, 0, 6, 3, 3, 4, 0, 2, 6,\n",
    "                   3, 3, 5, 4, 5, 3, 1, 4, 4, 1, 5, 5, 3, 4, 2, 5,\n",
    "                   2, 2, 3, 4, 2, 1, 3, 2, 2, 1, 1, 1, 1, 3, 0, 0,\n",
    "                   1, 0, 1, 1, 0, 0, 3, 1, 0, 3, 2, 2, 0, 1, 1, 1,\n",
    "                   0, 1, 0, 1, 0, 0, 0, 2, 1, 0, 0, 0, 1, 1, 0, 2,\n",
    "                   3, 3, 1, 1, 2, 1, 1, 1, 1, 2, 4, 2, 0, 0, 1, 4,\n",
    "                   0, 0, 0, 1, 0, 0, 0, 0, 0, 1, 0, 0, 1, 0, 1])\n",
    "\n",
    "# switchpoint, all values equally likely a priori\n",
    "switchpoint = DiscreteUniform('switchpoint', lower=0, upper=110, doc='Switchpoint[year]')\n",
    "\n",
    "early_mean = Exponential('early_mean', beta=1.)\n",
    "late_mean = Exponential('late_mean', beta=1.)\n",
    "\n",
    "\"\"\"In PyMC terminology, the parameter rate is 'deterministic', meaning it's determined explicitly\n",
    "by observations of its parents. (It's still a random variable)\"\"\"\n",
    "@deterministic(plot=False)\n",
    "def rate(s=switchpoint, e=early_mean, l=late_mean):\n",
    "    # concatenate poisson means\n",
    "    out = np.empty(len(disasters_array)) # array of size 1 x len(disasters_array) with uninitialized values\n",
    "    out[:s] = e\n",
    "    out[s:] = l\n",
    "    return out                           # looks like [e, e, ..., e, l, l,...,l]\n",
    "\n",
    "\"\"\"Finally, we model the observed random variable, disasters. We have to assign it a probability distribution\n",
    "because we want to use Bayes' Theorem\"\"\"\n",
    "disasters = Poisson('disasters', mu=rate, value=disasters_array, observed=True) # note the declaration of observed"
   ]
  },
  {
   "cell_type": "code",
   "execution_count": 4,
   "metadata": {
    "collapsed": false
   },
   "outputs": [
    {
     "data": {
      "text/plain": [
       "{'lower': 0, 'upper': 110}"
      ]
     },
     "execution_count": 4,
     "metadata": {},
     "output_type": "execute_result"
    }
   ],
   "source": [
    "import disaster_model\n",
    "disaster_model.switchpoint.parents"
   ]
  },
  {
   "cell_type": "code",
   "execution_count": 5,
   "metadata": {
    "collapsed": false
   },
   "outputs": [
    {
     "data": {
      "text/plain": [
       "{'mu': <pymc.PyMCObjects.Deterministic 'rate' at 0x1061a1950>}"
      ]
     },
     "execution_count": 5,
     "metadata": {},
     "output_type": "execute_result"
    }
   ],
   "source": [
    "disaster_model.disasters.parents"
   ]
  },
  {
   "cell_type": "code",
   "execution_count": 6,
   "metadata": {
    "collapsed": false
   },
   "outputs": [
    {
     "data": {
      "text/plain": [
       "{<pymc.distributions.Poisson 'disasters' at 0x1061a1990>}"
      ]
     },
     "execution_count": 6,
     "metadata": {},
     "output_type": "execute_result"
    }
   ],
   "source": [
    "disaster_model.rate.children"
   ]
  },
  {
   "cell_type": "markdown",
   "metadata": {},
   "source": [
    "Notice that parents are dictionaries while children are sets"
   ]
  },
  {
   "cell_type": "code",
   "execution_count": 7,
   "metadata": {
    "collapsed": false
   },
   "outputs": [
    {
     "data": {
      "text/plain": [
       "array([4, 5, 4, 0, 1, 4, 3, 4, 0, 6, 3, 3, 4, 0, 2, 6, 3, 3, 5, 4, 5, 3, 1,\n",
       "       4, 4, 1, 5, 5, 3, 4, 2, 5, 2, 2, 3, 4, 2, 1, 3, 2, 2, 1, 1, 1, 1, 3,\n",
       "       0, 0, 1, 0, 1, 1, 0, 0, 3, 1, 0, 3, 2, 2, 0, 1, 1, 1, 0, 1, 0, 1, 0,\n",
       "       0, 0, 2, 1, 0, 0, 0, 1, 1, 0, 2, 3, 3, 1, 1, 2, 1, 1, 1, 1, 2, 4, 2,\n",
       "       0, 0, 1, 4, 0, 0, 0, 1, 0, 0, 0, 0, 0, 1, 0, 0, 1, 0, 1])"
      ]
     },
     "execution_count": 7,
     "metadata": {},
     "output_type": "execute_result"
    }
   ],
   "source": [
    "disaster_model.disasters.value # we set this value"
   ]
  },
  {
   "cell_type": "code",
   "execution_count": 8,
   "metadata": {
    "collapsed": false
   },
   "outputs": [
    {
     "data": {
      "text/plain": [
       "array(81)"
      ]
     },
     "execution_count": 8,
     "metadata": {},
     "output_type": "execute_result"
    }
   ],
   "source": [
    "disaster_model.switchpoint.value # the following values were randomly assigned"
   ]
  },
  {
   "cell_type": "code",
   "execution_count": 9,
   "metadata": {
    "collapsed": false
   },
   "outputs": [
    {
     "data": {
      "text/plain": [
       "array(0.05980528931627297)"
      ]
     },
     "execution_count": 9,
     "metadata": {},
     "output_type": "execute_result"
    }
   ],
   "source": [
    "disaster_model.early_mean.value "
   ]
  },
  {
   "cell_type": "code",
   "execution_count": 10,
   "metadata": {
    "collapsed": false
   },
   "outputs": [
    {
     "data": {
      "text/plain": [
       "array(2.202582358708252)"
      ]
     },
     "execution_count": 10,
     "metadata": {},
     "output_type": "execute_result"
    }
   ],
   "source": [
    "disaster_model.late_mean.value"
   ]
  },
  {
   "cell_type": "code",
   "execution_count": 11,
   "metadata": {
    "collapsed": false
   },
   "outputs": [
    {
     "data": {
      "text/plain": [
       "array([ 0.05980529,  0.05980529,  0.05980529,  0.05980529,  0.05980529,\n",
       "        0.05980529,  0.05980529,  0.05980529,  0.05980529,  0.05980529,\n",
       "        0.05980529,  0.05980529,  0.05980529,  0.05980529,  0.05980529,\n",
       "        0.05980529,  0.05980529,  0.05980529,  0.05980529,  0.05980529,\n",
       "        0.05980529,  0.05980529,  0.05980529,  0.05980529,  0.05980529,\n",
       "        0.05980529,  0.05980529,  0.05980529,  0.05980529,  0.05980529,\n",
       "        0.05980529,  0.05980529,  0.05980529,  0.05980529,  0.05980529,\n",
       "        0.05980529,  0.05980529,  0.05980529,  0.05980529,  0.05980529,\n",
       "        0.05980529,  0.05980529,  0.05980529,  0.05980529,  0.05980529,\n",
       "        0.05980529,  0.05980529,  0.05980529,  0.05980529,  0.05980529,\n",
       "        0.05980529,  0.05980529,  0.05980529,  0.05980529,  0.05980529,\n",
       "        0.05980529,  0.05980529,  0.05980529,  0.05980529,  0.05980529,\n",
       "        0.05980529,  0.05980529,  0.05980529,  0.05980529,  0.05980529,\n",
       "        0.05980529,  0.05980529,  0.05980529,  0.05980529,  0.05980529,\n",
       "        0.05980529,  0.05980529,  0.05980529,  0.05980529,  0.05980529,\n",
       "        0.05980529,  0.05980529,  0.05980529,  0.05980529,  0.05980529,\n",
       "        0.05980529,  2.20258236,  2.20258236,  2.20258236,  2.20258236,\n",
       "        2.20258236,  2.20258236,  2.20258236,  2.20258236,  2.20258236,\n",
       "        2.20258236,  2.20258236,  2.20258236,  2.20258236,  2.20258236,\n",
       "        2.20258236,  2.20258236,  2.20258236,  2.20258236,  2.20258236,\n",
       "        2.20258236,  2.20258236,  2.20258236,  2.20258236,  2.20258236,\n",
       "        2.20258236,  2.20258236,  2.20258236,  2.20258236,  2.20258236,\n",
       "        2.20258236])"
      ]
     },
     "execution_count": 11,
     "metadata": {},
     "output_type": "execute_result"
    }
   ],
   "source": [
    "disaster_model.rate.value"
   ]
  },
  {
   "cell_type": "markdown",
   "metadata": {},
   "source": [
    "<p><tt>logp</tt> returns the log of the probability density of a stochastic variable at their current values given the values\n",
    "of their parents. We can think of the -log probability as a scale of rarity, the larger the more rare.</p>"
   ]
  },
  {
   "cell_type": "code",
   "execution_count": 12,
   "metadata": {
    "collapsed": false
   },
   "outputs": [
    {
     "data": {
      "text/plain": [
       "-4.709530201312334"
      ]
     },
     "execution_count": 12,
     "metadata": {},
     "output_type": "execute_result"
    }
   ],
   "source": [
    "disaster_model.switchpoint.logp # log of uniform probability evaluated at switchpoint.value"
   ]
  },
  {
   "cell_type": "code",
   "execution_count": 13,
   "metadata": {
    "collapsed": false
   },
   "outputs": [
    {
     "data": {
      "text/plain": [
       "-622.7366089468533"
      ]
     },
     "execution_count": 13,
     "metadata": {},
     "output_type": "execute_result"
    }
   ],
   "source": [
    "disaster_model.disasters.logp # sum of logs of joint density for each element of disasters \n",
    "                              # given parents' (the parameters') values"
   ]
  },
  {
   "cell_type": "code",
   "execution_count": 14,
   "metadata": {
    "collapsed": false
   },
   "outputs": [
    {
     "data": {
      "text/plain": [
       "-0.05980528931627297"
      ]
     },
     "execution_count": 14,
     "metadata": {},
     "output_type": "execute_result"
    }
   ],
   "source": [
    "disaster_model.early_mean.logp # e~exp(1) so log(1*exp(-1*e)) = -e"
   ]
  },
  {
   "cell_type": "code",
   "execution_count": 15,
   "metadata": {
    "collapsed": false
   },
   "outputs": [
    {
     "data": {
      "text/plain": [
       "-2.202582358708252"
      ]
     },
     "execution_count": 15,
     "metadata": {},
     "output_type": "execute_result"
    }
   ],
   "source": [
    "disaster_model.late_mean.logp"
   ]
  },
  {
   "cell_type": "code",
   "execution_count": 16,
   "metadata": {
    "collapsed": false
   },
   "outputs": [
    {
     "data": {
      "text/plain": [
       "0.00900900900900901"
      ]
     },
     "execution_count": 16,
     "metadata": {},
     "output_type": "execute_result"
    }
   ],
   "source": [
    "from math import exp\n",
    "\n",
    "exp(disaster_model.switchpoint.logp) # because this came from a uniform(0,110) distribution it is == 1/111"
   ]
  },
  {
   "cell_type": "code",
   "execution_count": 17,
   "metadata": {
    "collapsed": false
   },
   "outputs": [
    {
     "data": {
      "text/plain": [
       "-622.73660894685349"
      ]
     },
     "execution_count": 17,
     "metadata": {},
     "output_type": "execute_result"
    }
   ],
   "source": [
    "\"\"\"What logp is really doing for vector valued objects\"\"\"\n",
    "from scipy import stats\n",
    "\n",
    "\n",
    "arr = np.array([np.log(stats.poisson.pmf(disaster_model.disasters.value[i], mu=disaster_model.rate.value[i])) \n",
    "                for i in range(disaster_model.disasters.value.shape[0])])\n",
    "np.sum(arr)"
   ]
  },
  {
   "cell_type": "code",
   "execution_count": 18,
   "metadata": {
    "collapsed": false
   },
   "outputs": [
    {
     "data": {
      "text/plain": [
       "{'e': array(0.05980528931627297),\n",
       " 'l': array(2.202582358708252),\n",
       " 's': array(81)}"
      ]
     },
     "execution_count": 18,
     "metadata": {},
     "output_type": "execute_result"
    }
   ],
   "source": [
    "disaster_model.rate.parents.value # although these values are stochastic, "
   ]
  },
  {
   "cell_type": "code",
   "execution_count": 32,
   "metadata": {
    "collapsed": false
   },
   "outputs": [
    {
     "name": "stdout",
     "output_type": "stream",
     "text": [
      " [-----------------100%-----------------] 12000 of 12000 complete in 1.6 sec"
     ]
    }
   ],
   "source": [
    "from pymc import MCMC\n",
    "\n",
    "#Markov Chain Monte Carlo Sampling\n",
    "M = MCMC(disaster_model)\n",
    "\n",
    "M.sample(iter=12000, burn=3000, thin=10)"
   ]
  },
  {
   "cell_type": "markdown",
   "metadata": {},
   "source": [
    "<p>M.sample creates a series of retained samples of (<tt>s, e, l</tt>) from the posterior distribution of the model. <br>\n",
    "The MCMC joint distribution for <strong>P</strong>(<tt>s, e, l|D)</tt> converges to the true distribution, so we <tt>burn</tt> the <br>\n",
    "first 1000 values. Because the values are generated by a autoregressive stochastic process close by values <br>\n",
    "of the samples will be strongly autocorrelated so we take only every 10 values (<tt>thin=10</tt>)</p>"
   ]
  },
  {
   "cell_type": "code",
   "execution_count": 33,
   "metadata": {
    "collapsed": false,
    "scrolled": true
   },
   "outputs": [
    {
     "data": {
      "text/plain": [
       "array([43, 40, 40, 36, 41, 42, 37, 42, 37, 41, 42, 40, 39, 41, 40, 36, 40,\n",
       "       39, 37, 46, 40, 36, 37, 42, 40, 41, 40, 36, 39, 40, 40, 43, 44, 43,\n",
       "       39, 41, 36, 40, 38, 42, 37, 42, 40, 37, 46, 39, 42, 39, 37, 37, 36,\n",
       "       41, 41, 41, 41, 36, 43, 39, 37, 39, 40, 41, 39, 42, 40, 41, 46, 43,\n",
       "       40, 41, 41, 43, 42, 41, 41, 39, 40, 37, 40, 40, 40, 36, 37, 41, 41,\n",
       "       41, 41, 40, 39, 39, 41, 40, 39, 35, 39, 41, 44, 39, 41, 41, 37, 40,\n",
       "       36, 38, 37, 37, 41, 38, 46, 41, 36, 41, 45, 41, 40, 41, 40, 46, 40,\n",
       "       47, 40, 36, 42, 41, 42, 41, 40, 36, 41, 39, 39, 42, 36, 43, 42, 41,\n",
       "       39, 41, 42, 36, 39, 37, 41, 40, 36, 41, 40, 43, 40, 43, 43, 37, 36,\n",
       "       40, 40, 40, 40, 36, 39, 37, 39, 46, 37, 42, 39, 41, 41, 41, 37, 43,\n",
       "       40, 42, 39, 43, 41, 41, 42, 43, 42, 36, 40, 40, 36, 41, 39, 38, 46,\n",
       "       40, 41, 41, 41, 46, 40, 41, 37, 40, 38, 39, 40, 42, 39, 39, 39, 42,\n",
       "       42, 41, 40, 39, 43, 40, 41, 41, 37, 41, 40, 40, 42, 41, 36, 41, 39,\n",
       "       40, 42, 41, 42, 39, 41, 46, 41, 42, 39, 44, 40, 39, 42, 45, 40, 39,\n",
       "       40, 39, 41, 37, 38, 41, 41, 39, 41, 43, 40, 39, 40, 39, 39, 41, 36,\n",
       "       41, 41, 41, 42, 40, 39, 43, 40, 43, 41, 44, 36, 39, 38, 41, 40, 41,\n",
       "       46, 36, 45, 40, 41, 40, 42, 40, 42, 39, 41, 40, 41, 41, 39, 40, 39,\n",
       "       42, 37, 37, 41, 40, 38, 40, 41, 39, 42, 39, 39, 42, 40, 44, 40, 45,\n",
       "       46, 39, 39, 42, 42, 40, 39, 39, 42, 41, 41, 41, 37, 37, 40, 40, 37,\n",
       "       37, 40, 41, 41, 38, 43, 41, 39, 38, 40, 41, 43, 43, 36, 36, 41, 40,\n",
       "       40, 43, 38, 39, 43, 41, 39, 40, 39, 36, 41, 39, 42, 42, 41, 41, 37,\n",
       "       40, 37, 46, 41, 40, 40, 37, 38, 39, 41, 39, 42, 44, 41, 41, 36, 40,\n",
       "       46, 43, 40, 41, 41, 39, 36, 41, 41, 42, 42, 41, 41, 41, 42, 41, 39,\n",
       "       37, 40, 42, 44, 40, 41, 39, 37, 39, 41, 39, 40, 40, 43, 39, 37, 41,\n",
       "       42, 40, 42, 40, 39, 41, 41, 42, 40, 41, 41, 42, 43, 37, 42, 40, 40,\n",
       "       41, 38, 39, 37, 40, 39, 40, 41, 43, 41, 41, 38, 40, 41, 40, 38, 41,\n",
       "       40, 44, 46, 37, 43, 41, 37, 42, 37, 40, 47, 41, 46, 41, 44, 36, 41,\n",
       "       42, 41, 39, 41, 41, 40, 38, 36, 37, 41, 43, 36, 41, 41, 38, 41, 41,\n",
       "       40, 40, 39, 37, 37, 39, 41, 41, 46, 42, 41, 39, 39, 35, 39, 40, 42,\n",
       "       44, 39, 40, 39, 42, 43, 40, 40, 40, 38, 39, 39, 43, 47, 40, 37, 40,\n",
       "       35, 40, 46, 40, 41, 43, 43, 41, 40, 36, 41, 41, 42, 39, 41, 38, 43,\n",
       "       41, 40, 40, 40, 41, 41, 41, 41, 43, 37, 41, 37, 41, 43, 41, 41, 41,\n",
       "       40, 36, 40, 36, 41, 46, 40, 37, 43, 42, 43, 39, 42, 39, 46, 41, 42,\n",
       "       40, 39, 35, 41, 39, 40, 37, 41, 41, 43, 39, 43, 42, 37, 36, 40, 40,\n",
       "       46, 38, 39, 43, 39, 37, 39, 39, 41, 42, 40, 40, 41, 37, 41, 41, 41,\n",
       "       37, 42, 41, 45, 41, 42, 40, 41, 41, 39, 46, 46, 40, 41, 40, 42, 41,\n",
       "       39, 37, 42, 40, 42, 46, 40, 45, 38, 37, 39, 39, 41, 42, 42, 36, 37,\n",
       "       43, 41, 41, 34, 36, 39, 37, 39, 36, 36, 36, 39, 39, 39, 37, 40, 43,\n",
       "       38, 36, 41, 39, 41, 41, 39, 36, 46, 41, 42, 41, 40, 41, 45, 41, 40,\n",
       "       41, 37, 43, 36, 40, 37, 39, 40, 37, 37, 41, 40, 42, 42, 41, 40, 46,\n",
       "       34, 39, 41, 41, 39, 40, 41, 45, 42, 41, 39, 38, 40, 40, 42, 37, 40,\n",
       "       46, 40, 41, 42, 41, 43, 40, 41, 42, 37, 39, 46, 42, 36, 37, 39, 40,\n",
       "       46, 37, 41, 42, 40, 40, 41, 41, 41, 41, 39, 42, 42, 46, 39, 39, 40,\n",
       "       42, 41, 39, 37, 41, 40, 37, 41, 38, 46, 40, 41, 41, 38, 36, 39, 40,\n",
       "       41, 41, 40, 41, 39, 40, 40, 38, 36, 36, 37, 42, 40, 40, 39, 41, 41,\n",
       "       36, 37, 41, 37, 46, 35, 40, 40, 41, 36, 40, 36, 42, 41, 42, 36, 42,\n",
       "       38, 44, 38, 41, 46, 42, 41, 41, 39, 46, 40, 41, 36, 36, 42, 41, 40,\n",
       "       39, 36, 36, 41, 40, 40, 42, 39, 41, 41, 40, 41, 39, 40, 42, 42, 38,\n",
       "       42, 39, 39, 41, 36, 37, 39, 48, 46, 42, 39, 41, 47, 42, 40, 40, 41,\n",
       "       40, 42, 37, 36, 37, 41, 41, 39, 35, 37, 41, 41, 42, 42, 37, 37, 46,\n",
       "       41, 42, 34, 41, 39, 39, 40, 43, 41, 36, 37, 40, 40, 39, 42, 38, 41,\n",
       "       39, 39, 40, 36, 41, 39, 39, 41, 37, 46, 45, 36, 38, 42, 41, 37, 41,\n",
       "       41, 44, 39, 41, 43, 38, 36, 41, 39, 41, 36, 41, 40, 42, 41, 41])"
      ]
     },
     "execution_count": 33,
     "metadata": {},
     "output_type": "execute_result"
    }
   ],
   "source": [
    "M.trace('switchpoint')[:] # output of the model for switchpoint, there are (12000-3000) / 10 = 900 retained values"
   ]
  },
  {
   "cell_type": "code",
   "execution_count": 34,
   "metadata": {
    "collapsed": false
   },
   "outputs": [
    {
     "data": {
      "image/png": "[encoded data removed]",
      "text/plain": [
       "<matplotlib.figure.Figure at 0x10b8b0450>"
      ]
     },
     "metadata": {},
     "output_type": "display_data"
    }
   ],
   "source": [
    "from pylab import hist, show\n",
    "\n",
    "hist(M.trace(late_mean)[:]) # histogram of marginal posterior probability P(l|D)\n",
    "show()"
   ]
  },
  {
   "cell_type": "code",
   "execution_count": 35,
   "metadata": {
    "collapsed": false
   },
   "outputs": [
    {
     "name": "stdout",
     "output_type": "stream",
     "text": [
      "Plotting early_mean\n",
      "Plotting late_mean\n",
      "Plotting switchpoint\n"
     ]
    },
    {
     "data": {
      "image/png": "[encoded data removed]",
      "text/plain": [
       "<matplotlib.figure.Figure at 0x10e742ed0>"
      ]
     },
     "metadata": {},
     "output_type": "display_data"
    },
    {
     "data": {
      "image/png": "[encoded data removed]",
      "text/plain": [
       "<matplotlib.figure.Figure at 0x10e742f90>"
      ]
     },
     "metadata": {},
     "output_type": "display_data"
    },
    {
     "data": {
      "image/png": "[encoded data removed]",
      "text/plain": [
       "<matplotlib.figure.Figure at 0x10b8b9810>"
      ]
     },
     "metadata": {},
     "output_type": "display_data"
    }
   ],
   "source": [
    "from pymc.Matplot import plot\n",
    "plot(M)"
   ]
  },
  {
   "cell_type": "code",
   "execution_count": 36,
   "metadata": {
    "collapsed": false
   },
   "outputs": [
    {
     "data": {
      "text/plain": [
       "{'early_mean': {'95% HPD interval': array([ 2.51484891,  3.5987009 ]),\n",
       "  'mc error': 0.010124377241700405,\n",
       "  'mean': 3.0500212783909157,\n",
       "  'n': 900,\n",
       "  'quantiles': {2.5: 2.5380485710235021,\n",
       "   25: 2.8627066469130957,\n",
       "   50: 3.0344447825217329,\n",
       "   75: 3.2344755204367597,\n",
       "   97.5: 3.6432076661218611},\n",
       "  'standard deviation': 0.2748233401210417},\n",
       " 'late_mean': {'95% HPD interval': array([ 0.72486174,  1.18466654]),\n",
       "  'mc error': 0.0037733961556360371,\n",
       "  'mean': 0.93747474375775941,\n",
       "  'n': 900,\n",
       "  'quantiles': {2.5: 0.72501071384110327,\n",
       "   25: 0.85542630781293683,\n",
       "   50: 0.9361906145376816,\n",
       "   75: 1.0145064455749853,\n",
       "   97.5: 1.186620172644258},\n",
       "  'standard deviation': 0.1169296188692924},\n",
       " 'rate': {'95% HPD interval': array([[ 2.51484891,  2.51484891,  2.51484891,  2.51484891,  2.51484891,\n",
       "           2.51484891,  2.51484891,  2.51484891,  2.51484891,  2.51484891,\n",
       "           2.51484891,  2.51484891,  2.51484891,  2.51484891,  2.51484891,\n",
       "           2.51484891,  2.51484891,  2.51484891,  2.51484891,  2.51484891,\n",
       "           2.51484891,  2.51484891,  2.51484891,  2.51484891,  2.51484891,\n",
       "           2.51484891,  2.51484891,  2.51484891,  2.51484891,  2.51484891,\n",
       "           2.51484891,  2.51484891,  2.51484891,  2.51484891,  2.50756989,\n",
       "           2.52805643,  0.89214227,  0.84153704,  0.78557271,  0.78557271,\n",
       "           0.75085529,  0.69873942,  0.66507632,  0.64183898,  0.62534378,\n",
       "           0.66507632,  0.72486174,  0.72486174,  0.72486174,  0.72486174,\n",
       "           0.72486174,  0.72486174,  0.72486174,  0.72486174,  0.72486174,\n",
       "           0.72486174,  0.72486174,  0.72486174,  0.72486174,  0.72486174,\n",
       "           0.72486174,  0.72486174,  0.72486174,  0.72486174,  0.72486174,\n",
       "           0.72486174,  0.72486174,  0.72486174,  0.72486174,  0.72486174,\n",
       "           0.72486174,  0.72486174,  0.72486174,  0.72486174,  0.72486174,\n",
       "           0.72486174,  0.72486174,  0.72486174,  0.72486174,  0.72486174,\n",
       "           0.72486174,  0.72486174,  0.72486174,  0.72486174,  0.72486174,\n",
       "           0.72486174,  0.72486174,  0.72486174,  0.72486174,  0.72486174,\n",
       "           0.72486174,  0.72486174,  0.72486174,  0.72486174,  0.72486174,\n",
       "           0.72486174,  0.72486174,  0.72486174,  0.72486174,  0.72486174,\n",
       "           0.72486174,  0.72486174,  0.72486174,  0.72486174,  0.72486174,\n",
       "           0.72486174,  0.72486174,  0.72486174,  0.72486174,  0.72486174,\n",
       "           0.72486174],\n",
       "         [ 3.5987009 ,  3.5987009 ,  3.5987009 ,  3.5987009 ,  3.5987009 ,\n",
       "           3.5987009 ,  3.5987009 ,  3.5987009 ,  3.5987009 ,  3.5987009 ,\n",
       "           3.5987009 ,  3.5987009 ,  3.5987009 ,  3.5987009 ,  3.5987009 ,\n",
       "           3.5987009 ,  3.5987009 ,  3.5987009 ,  3.5987009 ,  3.5987009 ,\n",
       "           3.5987009 ,  3.5987009 ,  3.5987009 ,  3.5987009 ,  3.5987009 ,\n",
       "           3.5987009 ,  3.5987009 ,  3.5987009 ,  3.5987009 ,  3.5987009 ,\n",
       "           3.5987009 ,  3.5987009 ,  3.5987009 ,  3.5987009 ,  3.61431123,\n",
       "           3.66952666,  3.53083311,  3.5170244 ,  3.4417898 ,  3.42727977,\n",
       "           3.38443579,  3.18481698,  2.9324096 ,  2.7611281 ,  2.50756989,\n",
       "           1.30928264,  1.19309883,  1.18662017,  1.18466654,  1.18466654,\n",
       "           1.18466654,  1.18466654,  1.18466654,  1.18466654,  1.18466654,\n",
       "           1.18466654,  1.18466654,  1.18466654,  1.18466654,  1.18466654,\n",
       "           1.18466654,  1.18466654,  1.18466654,  1.18466654,  1.18466654,\n",
       "           1.18466654,  1.18466654,  1.18466654,  1.18466654,  1.18466654,\n",
       "           1.18466654,  1.18466654,  1.18466654,  1.18466654,  1.18466654,\n",
       "           1.18466654,  1.18466654,  1.18466654,  1.18466654,  1.18466654,\n",
       "           1.18466654,  1.18466654,  1.18466654,  1.18466654,  1.18466654,\n",
       "           1.18466654,  1.18466654,  1.18466654,  1.18466654,  1.18466654,\n",
       "           1.18466654,  1.18466654,  1.18466654,  1.18466654,  1.18466654,\n",
       "           1.18466654,  1.18466654,  1.18466654,  1.18466654,  1.18466654,\n",
       "           1.18466654,  1.18466654,  1.18466654,  1.18466654,  1.18466654,\n",
       "           1.18466654,  1.18466654,  1.18466654,  1.18466654,  1.18466654,\n",
       "           1.18466654]]),\n",
       "  'mc error': array([ 0.01012438,  0.01012438,  0.01012438,  0.01012438,  0.01012438,\n",
       "          0.01012438,  0.01012438,  0.01012438,  0.01012438,  0.01012438,\n",
       "          0.01012438,  0.01012438,  0.01012438,  0.01012438,  0.01012438,\n",
       "          0.01012438,  0.01012438,  0.01012438,  0.01012438,  0.01012438,\n",
       "          0.01012438,  0.01012438,  0.01012438,  0.01012438,  0.01012438,\n",
       "          0.01012438,  0.01012438,  0.01012438,  0.01012438,  0.01012438,\n",
       "          0.01012438,  0.01012438,  0.01012438,  0.01012438,  0.01032113,\n",
       "          0.01152806,  0.01923702,  0.02573224,  0.02676634,  0.029873  ,\n",
       "          0.03257279,  0.02727596,  0.02112021,  0.01697763,  0.01489331,\n",
       "          0.01337829,  0.00652259,  0.00438171,  0.0037734 ,  0.0037734 ,\n",
       "          0.0037734 ,  0.0037734 ,  0.0037734 ,  0.0037734 ,  0.0037734 ,\n",
       "          0.0037734 ,  0.0037734 ,  0.0037734 ,  0.0037734 ,  0.0037734 ,\n",
       "          0.0037734 ,  0.0037734 ,  0.0037734 ,  0.0037734 ,  0.0037734 ,\n",
       "          0.0037734 ,  0.0037734 ,  0.0037734 ,  0.0037734 ,  0.0037734 ,\n",
       "          0.0037734 ,  0.0037734 ,  0.0037734 ,  0.0037734 ,  0.0037734 ,\n",
       "          0.0037734 ,  0.0037734 ,  0.0037734 ,  0.0037734 ,  0.0037734 ,\n",
       "          0.0037734 ,  0.0037734 ,  0.0037734 ,  0.0037734 ,  0.0037734 ,\n",
       "          0.0037734 ,  0.0037734 ,  0.0037734 ,  0.0037734 ,  0.0037734 ,\n",
       "          0.0037734 ,  0.0037734 ,  0.0037734 ,  0.0037734 ,  0.0037734 ,\n",
       "          0.0037734 ,  0.0037734 ,  0.0037734 ,  0.0037734 ,  0.0037734 ,\n",
       "          0.0037734 ,  0.0037734 ,  0.0037734 ,  0.0037734 ,  0.0037734 ,\n",
       "          0.0037734 ,  0.0037734 ,  0.0037734 ,  0.0037734 ,  0.0037734 ,\n",
       "          0.0037734 ]),\n",
       "  'mean': array([ 3.05002128,  3.05002128,  3.05002128,  3.05002128,  3.05002128,\n",
       "          3.05002128,  3.05002128,  3.05002128,  3.05002128,  3.05002128,\n",
       "          3.05002128,  3.05002128,  3.05002128,  3.05002128,  3.05002128,\n",
       "          3.05002128,  3.05002128,  3.05002128,  3.05002128,  3.05002128,\n",
       "          3.05002128,  3.05002128,  3.05002128,  3.05002128,  3.05002128,\n",
       "          3.05002128,  3.05002128,  3.05002128,  3.05002128,  3.05002128,\n",
       "          3.05002128,  3.05002128,  3.05002128,  3.05002128,  3.04265077,\n",
       "          3.02916226,  2.88501434,  2.6969292 ,  2.62246421,  2.31225118,\n",
       "          1.92728616,  1.40279122,  1.17748019,  1.07537709,  1.04800782,\n",
       "          1.02825732,  0.94776163,  0.93954976,  0.93747474,  0.93747474,\n",
       "          0.93747474,  0.93747474,  0.93747474,  0.93747474,  0.93747474,\n",
       "          0.93747474,  0.93747474,  0.93747474,  0.93747474,  0.93747474,\n",
       "          0.93747474,  0.93747474,  0.93747474,  0.93747474,  0.93747474,\n",
       "          0.93747474,  0.93747474,  0.93747474,  0.93747474,  0.93747474,\n",
       "          0.93747474,  0.93747474,  0.93747474,  0.93747474,  0.93747474,\n",
       "          0.93747474,  0.93747474,  0.93747474,  0.93747474,  0.93747474,\n",
       "          0.93747474,  0.93747474,  0.93747474,  0.93747474,  0.93747474,\n",
       "          0.93747474,  0.93747474,  0.93747474,  0.93747474,  0.93747474,\n",
       "          0.93747474,  0.93747474,  0.93747474,  0.93747474,  0.93747474,\n",
       "          0.93747474,  0.93747474,  0.93747474,  0.93747474,  0.93747474,\n",
       "          0.93747474,  0.93747474,  0.93747474,  0.93747474,  0.93747474,\n",
       "          0.93747474,  0.93747474,  0.93747474,  0.93747474,  0.93747474,\n",
       "          0.93747474]),\n",
       "  'n': 900,\n",
       "  'quantiles': {2.5: array([ 2.53804857,  2.53804857,  2.53804857,  2.53804857,  2.53804857,\n",
       "           2.53804857,  2.53804857,  2.53804857,  2.53804857,  2.53804857,\n",
       "           2.53804857,  2.53804857,  2.53804857,  2.53804857,  2.53804857,\n",
       "           2.53804857,  2.53804857,  2.53804857,  2.53804857,  2.53804857,\n",
       "           2.53804857,  2.53804857,  2.53804857,  2.53804857,  2.53804857,\n",
       "           2.53804857,  2.53804857,  2.53804857,  2.53804857,  2.53804857,\n",
       "           2.53804857,  2.53804857,  2.53804857,  2.53804857,  2.52025339,\n",
       "           2.46480743,  0.95529933,  0.86497913,  0.85372307,  0.80381778,\n",
       "           0.77834813,  0.75085529,  0.74778221,  0.73949221,  0.73949221,\n",
       "           0.73949221,  0.72960171,  0.72501071,  0.72501071,  0.72501071,\n",
       "           0.72501071,  0.72501071,  0.72501071,  0.72501071,  0.72501071,\n",
       "           0.72501071,  0.72501071,  0.72501071,  0.72501071,  0.72501071,\n",
       "           0.72501071,  0.72501071,  0.72501071,  0.72501071,  0.72501071,\n",
       "           0.72501071,  0.72501071,  0.72501071,  0.72501071,  0.72501071,\n",
       "           0.72501071,  0.72501071,  0.72501071,  0.72501071,  0.72501071,\n",
       "           0.72501071,  0.72501071,  0.72501071,  0.72501071,  0.72501071,\n",
       "           0.72501071,  0.72501071,  0.72501071,  0.72501071,  0.72501071,\n",
       "           0.72501071,  0.72501071,  0.72501071,  0.72501071,  0.72501071,\n",
       "           0.72501071,  0.72501071,  0.72501071,  0.72501071,  0.72501071,\n",
       "           0.72501071,  0.72501071,  0.72501071,  0.72501071,  0.72501071,\n",
       "           0.72501071,  0.72501071,  0.72501071,  0.72501071,  0.72501071,\n",
       "           0.72501071,  0.72501071,  0.72501071,  0.72501071,  0.72501071,\n",
       "           0.72501071]),\n",
       "   25: array([ 2.86270665,  2.86270665,  2.86270665,  2.86270665,  2.86270665,\n",
       "           2.86270665,  2.86270665,  2.86270665,  2.86270665,  2.86270665,\n",
       "           2.86270665,  2.86270665,  2.86270665,  2.86270665,  2.86270665,\n",
       "           2.86270665,  2.86270665,  2.86270665,  2.86270665,  2.86270665,\n",
       "           2.86270665,  2.86270665,  2.86270665,  2.86270665,  2.86270665,\n",
       "           2.86270665,  2.86270665,  2.86270665,  2.86270665,  2.86270665,\n",
       "           2.86270665,  2.86270665,  2.86270665,  2.86270665,  2.86139381,\n",
       "           2.85902481,  2.80400851,  2.71678786,  2.62747014,  1.03513513,\n",
       "           0.95007804,  0.8918194 ,  0.87009636,  0.86497913,  0.86309942,\n",
       "           0.86283482,  0.8565055 ,  0.85542631,  0.85542631,  0.85542631,\n",
       "           0.85542631,  0.85542631,  0.85542631,  0.85542631,  0.85542631,\n",
       "           0.85542631,  0.85542631,  0.85542631,  0.85542631,  0.85542631,\n",
       "           0.85542631,  0.85542631,  0.85542631,  0.85542631,  0.85542631,\n",
       "           0.85542631,  0.85542631,  0.85542631,  0.85542631,  0.85542631,\n",
       "           0.85542631,  0.85542631,  0.85542631,  0.85542631,  0.85542631,\n",
       "           0.85542631,  0.85542631,  0.85542631,  0.85542631,  0.85542631,\n",
       "           0.85542631,  0.85542631,  0.85542631,  0.85542631,  0.85542631,\n",
       "           0.85542631,  0.85542631,  0.85542631,  0.85542631,  0.85542631,\n",
       "           0.85542631,  0.85542631,  0.85542631,  0.85542631,  0.85542631,\n",
       "           0.85542631,  0.85542631,  0.85542631,  0.85542631,  0.85542631,\n",
       "           0.85542631,  0.85542631,  0.85542631,  0.85542631,  0.85542631,\n",
       "           0.85542631,  0.85542631,  0.85542631,  0.85542631,  0.85542631,\n",
       "           0.85542631]),\n",
       "   50: array([ 3.03444478,  3.03444478,  3.03444478,  3.03444478,  3.03444478,\n",
       "           3.03444478,  3.03444478,  3.03444478,  3.03444478,  3.03444478,\n",
       "           3.03444478,  3.03444478,  3.03444478,  3.03444478,  3.03444478,\n",
       "           3.03444478,  3.03444478,  3.03444478,  3.03444478,  3.03444478,\n",
       "           3.03444478,  3.03444478,  3.03444478,  3.03444478,  3.03444478,\n",
       "           3.03444478,  3.03444478,  3.03444478,  3.03444478,  3.03444478,\n",
       "           3.03444478,  3.03444478,  3.03444478,  3.03444478,  3.03207067,\n",
       "           3.02676707,  2.99636689,  2.96248568,  2.94064646,  2.82870952,\n",
       "           1.1751514 ,  0.99324813,  0.96392304,  0.94894733,  0.94612981,\n",
       "           0.94514684,  0.93644557,  0.93619061,  0.93619061,  0.93619061,\n",
       "           0.93619061,  0.93619061,  0.93619061,  0.93619061,  0.93619061,\n",
       "           0.93619061,  0.93619061,  0.93619061,  0.93619061,  0.93619061,\n",
       "           0.93619061,  0.93619061,  0.93619061,  0.93619061,  0.93619061,\n",
       "           0.93619061,  0.93619061,  0.93619061,  0.93619061,  0.93619061,\n",
       "           0.93619061,  0.93619061,  0.93619061,  0.93619061,  0.93619061,\n",
       "           0.93619061,  0.93619061,  0.93619061,  0.93619061,  0.93619061,\n",
       "           0.93619061,  0.93619061,  0.93619061,  0.93619061,  0.93619061,\n",
       "           0.93619061,  0.93619061,  0.93619061,  0.93619061,  0.93619061,\n",
       "           0.93619061,  0.93619061,  0.93619061,  0.93619061,  0.93619061,\n",
       "           0.93619061,  0.93619061,  0.93619061,  0.93619061,  0.93619061,\n",
       "           0.93619061,  0.93619061,  0.93619061,  0.93619061,  0.93619061,\n",
       "           0.93619061,  0.93619061,  0.93619061,  0.93619061,  0.93619061,\n",
       "           0.93619061]),\n",
       "   75: array([ 3.23447552,  3.23447552,  3.23447552,  3.23447552,  3.23447552,\n",
       "           3.23447552,  3.23447552,  3.23447552,  3.23447552,  3.23447552,\n",
       "           3.23447552,  3.23447552,  3.23447552,  3.23447552,  3.23447552,\n",
       "           3.23447552,  3.23447552,  3.23447552,  3.23447552,  3.23447552,\n",
       "           3.23447552,  3.23447552,  3.23447552,  3.23447552,  3.23447552,\n",
       "           3.23447552,  3.23447552,  3.23447552,  3.23447552,  3.23447552,\n",
       "           3.23447552,  3.23447552,  3.23447552,  3.23447552,  3.23228603,\n",
       "           3.23183046,  3.20835552,  3.17117708,  3.16559563,  3.08684892,\n",
       "           2.9712388 ,  1.18959291,  1.0635764 ,  1.03841408,  1.03513513,\n",
       "           1.03161428,  1.01652898,  1.01450645,  1.01450645,  1.01450645,\n",
       "           1.01450645,  1.01450645,  1.01450645,  1.01450645,  1.01450645,\n",
       "           1.01450645,  1.01450645,  1.01450645,  1.01450645,  1.01450645,\n",
       "           1.01450645,  1.01450645,  1.01450645,  1.01450645,  1.01450645,\n",
       "           1.01450645,  1.01450645,  1.01450645,  1.01450645,  1.01450645,\n",
       "           1.01450645,  1.01450645,  1.01450645,  1.01450645,  1.01450645,\n",
       "           1.01450645,  1.01450645,  1.01450645,  1.01450645,  1.01450645,\n",
       "           1.01450645,  1.01450645,  1.01450645,  1.01450645,  1.01450645,\n",
       "           1.01450645,  1.01450645,  1.01450645,  1.01450645,  1.01450645,\n",
       "           1.01450645,  1.01450645,  1.01450645,  1.01450645,  1.01450645,\n",
       "           1.01450645,  1.01450645,  1.01450645,  1.01450645,  1.01450645,\n",
       "           1.01450645,  1.01450645,  1.01450645,  1.01450645,  1.01450645,\n",
       "           1.01450645,  1.01450645,  1.01450645,  1.01450645,  1.01450645,\n",
       "           1.01450645]),\n",
       "   97.5: array([ 3.64320767,  3.64320767,  3.64320767,  3.64320767,  3.64320767,\n",
       "           3.64320767,  3.64320767,  3.64320767,  3.64320767,  3.64320767,\n",
       "           3.64320767,  3.64320767,  3.64320767,  3.64320767,  3.64320767,\n",
       "           3.64320767,  3.64320767,  3.64320767,  3.64320767,  3.64320767,\n",
       "           3.64320767,  3.64320767,  3.64320767,  3.64320767,  3.64320767,\n",
       "           3.64320767,  3.64320767,  3.64320767,  3.64320767,  3.64320767,\n",
       "           3.64320767,  3.64320767,  3.64320767,  3.64320767,  3.64320767,\n",
       "           3.64320767,  3.62444114,  3.59666899,  3.58309767,  3.50511214,\n",
       "           3.4272103 ,  3.25756039,  3.09237496,  2.98102334,  2.89873888,\n",
       "           2.86453187,  1.19924348,  1.18959291,  1.18662017,  1.18662017,\n",
       "           1.18662017,  1.18662017,  1.18662017,  1.18662017,  1.18662017,\n",
       "           1.18662017,  1.18662017,  1.18662017,  1.18662017,  1.18662017,\n",
       "           1.18662017,  1.18662017,  1.18662017,  1.18662017,  1.18662017,\n",
       "           1.18662017,  1.18662017,  1.18662017,  1.18662017,  1.18662017,\n",
       "           1.18662017,  1.18662017,  1.18662017,  1.18662017,  1.18662017,\n",
       "           1.18662017,  1.18662017,  1.18662017,  1.18662017,  1.18662017,\n",
       "           1.18662017,  1.18662017,  1.18662017,  1.18662017,  1.18662017,\n",
       "           1.18662017,  1.18662017,  1.18662017,  1.18662017,  1.18662017,\n",
       "           1.18662017,  1.18662017,  1.18662017,  1.18662017,  1.18662017,\n",
       "           1.18662017,  1.18662017,  1.18662017,  1.18662017,  1.18662017,\n",
       "           1.18662017,  1.18662017,  1.18662017,  1.18662017,  1.18662017,\n",
       "           1.18662017,  1.18662017,  1.18662017,  1.18662017,  1.18662017,\n",
       "           1.18662017])},\n",
       "  'standard deviation': array([ 0.27482334,  0.27482334,  0.27482334,  0.27482334,  0.27482334,\n",
       "          0.27482334,  0.27482334,  0.27482334,  0.27482334,  0.27482334,\n",
       "          0.27482334,  0.27482334,  0.27482334,  0.27482334,  0.27482334,\n",
       "          0.27482334,  0.27482334,  0.27482334,  0.27482334,  0.27482334,\n",
       "          0.27482334,  0.27482334,  0.27482334,  0.27482334,  0.27482334,\n",
       "          0.27482334,  0.27482334,  0.27482334,  0.27482334,  0.27482334,\n",
       "          0.27482334,  0.27482334,  0.27482334,  0.27482334,  0.29756955,\n",
       "          0.33896158,  0.60796176,  0.79612217,  0.85288465,  0.99933095,\n",
       "          1.03904182,  0.85489342,  0.64852676,  0.50959416,  0.4605806 ,\n",
       "          0.41918924,  0.17856708,  0.13416132,  0.11692962,  0.11692962,\n",
       "          0.11692962,  0.11692962,  0.11692962,  0.11692962,  0.11692962,\n",
       "          0.11692962,  0.11692962,  0.11692962,  0.11692962,  0.11692962,\n",
       "          0.11692962,  0.11692962,  0.11692962,  0.11692962,  0.11692962,\n",
       "          0.11692962,  0.11692962,  0.11692962,  0.11692962,  0.11692962,\n",
       "          0.11692962,  0.11692962,  0.11692962,  0.11692962,  0.11692962,\n",
       "          0.11692962,  0.11692962,  0.11692962,  0.11692962,  0.11692962,\n",
       "          0.11692962,  0.11692962,  0.11692962,  0.11692962,  0.11692962,\n",
       "          0.11692962,  0.11692962,  0.11692962,  0.11692962,  0.11692962,\n",
       "          0.11692962,  0.11692962,  0.11692962,  0.11692962,  0.11692962,\n",
       "          0.11692962,  0.11692962,  0.11692962,  0.11692962,  0.11692962,\n",
       "          0.11692962,  0.11692962,  0.11692962,  0.11692962,  0.11692962,\n",
       "          0.11692962,  0.11692962,  0.11692962,  0.11692962,  0.11692962,\n",
       "          0.11692962])},\n",
       " 'switchpoint': {'95% HPD interval': array([ 35.,  45.]),\n",
       "  'mc error': 0.077369962589567728,\n",
       "  'mean': 40.194444444444443,\n",
       "  'n': 900,\n",
       "  'quantiles': {2.5: 36.0, 25: 39.0, 50: 40.0, 75: 41.0, 97.5: 46.0},\n",
       "  'standard deviation': 2.3965188230297301}}"
      ]
     },
     "execution_count": 36,
     "metadata": {},
     "output_type": "execute_result"
    }
   ],
   "source": [
    "M.stats()"
   ]
  },
  {
   "cell_type": "code",
   "execution_count": null,
   "metadata": {
    "collapsed": true
   },
   "outputs": [],
   "source": []
  }
 ],
 "metadata": {
  "kernelspec": {
   "display_name": "Python 2",
   "language": "python",
   "name": "python2"
  },
  "language_info": {
   "codemirror_mode": {
    "name": "ipython",
    "version": 2
   },
   "file_extension": ".py",
   "mimetype": "text/x-python",
   "name": "python",
   "nbconvert_exporter": "python",
   "pygments_lexer": "ipython2",
   "version": "2.7.10"
  }
 },
 "nbformat": 4,
 "nbformat_minor": 0
}
