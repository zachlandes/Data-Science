{
 "cells": [
  {
   "cell_type": "markdown",
   "metadata": {},
   "source": [
    "<h2> Naive Bayes Spam Filter </h2>\n",
    "<p>We're going to compute: P(Spam| Words = words) = P(W = w| S) / [P(W = w| S) + P(W = w|~S)] <br />\n",
    "\n",
    "Notice this implementation of Bayes' Rule includes the prior that P(Spam) = P(~Spam) = .5 <br />\n",
    "\n",
    "Actual computations will be performed with log probabilities to avoid underflow</p>"
   ]
  },
  {
   "cell_type": "code",
   "execution_count": 5,
   "metadata": {
    "collapsed": true
   },
   "outputs": [],
   "source": [
    "#imports\n",
    "%matplotlib inline\n",
    "from __future__ import division\n",
    "import re\n",
    "from matplotlib import pyplot as plt\n",
    "from collections import defaultdict\n",
    "import math"
   ]
  },
  {
   "cell_type": "code",
   "execution_count": 2,
   "metadata": {
    "collapsed": true
   },
   "outputs": [],
   "source": [
    "def tokenize(message):\n",
    "    message = message.lower()                      # convert to lowercase\n",
    "    all_words = re.findall(\"[a-z0-9']+\", message)  # extract the words\n",
    "    return set(all_words)                          # remove duplicates (in np use np.unique)"
   ]
  },
  {
   "cell_type": "code",
   "execution_count": 3,
   "metadata": {
    "collapsed": true
   },
   "outputs": [],
   "source": [
    "def count_words(training_set):\n",
    "    \"\"\"training set consists of pairs (message, is_spam)\"\"\"\n",
    "    counts = defaultdict(lambda: [0, 0])           # when looking up a key, it first creates a value [0,0]\n",
    "    for message, is_spam in training_set:          # look through all the training set data of labeled emails\n",
    "        for word in tokenize(message):             # look at each unique word in the tokenized version of the email\n",
    "            counts[word][0 if is_spam else 1] += 1 # if in spam email, {word: [x + 1, y]} if not {word: [x, y + 1]}\n",
    "    return counts"
   ]
  },
  {
   "cell_type": "code",
   "execution_count": 4,
   "metadata": {
    "collapsed": true
   },
   "outputs": [],
   "source": [
    "# creating estimated probabilities with pseudocount smoothing for words not in training set\n",
    "def word_probabilities(counts, total_spams, total_non_spams, k=0.5):\n",
    "    \"\"\"turn the word_counts into a list of triplets (word, P(word|spam), P(word|-spam))\"\"\"\n",
    "    return [(w,                                           # word\n",
    "            (spam + k) / (total_spams + 2 * k),           # # of spam emails with that word + k / # of spam emails + 2k\n",
    "            (non_spam + k) / (total_non_spams + 2 * k))   # smoothed proportion of all non spam emails with that word\n",
    "           for w, (spam, non_spam) in counts.iteritems()] # do this for each word, thus returning a list of 3-tuples"
   ]
  },
  {
   "cell_type": "code",
   "execution_count": 6,
   "metadata": {
    "collapsed": true
   },
   "outputs": [],
   "source": [
    "# assign spam probabilities to messages\n",
    "def spam_probability(word_probs, message):              # notice this f'n evaluates a single message\n",
    "    message_words = tokenize(message)\n",
    "    log_prob_if_spam = log_prob_if_not_spam = 0.0\n",
    "    \n",
    "    # iterate through each word in our vocabulary\n",
    "    for word, prob_if_spam, prob_if_not_spam in word_probs:\n",
    "        \n",
    "        # if *word* from training set vocab appears in the message add the log probability of seeing it\n",
    "        if word in message_words:\n",
    "            log_prob_if_spam += math.log(prob_if_spam)\n",
    "            log_prob_if_not_spam += math.log(prob_if_not_spam)\n",
    "            \n",
    "        # if *word* doesn't appear in the message add the log probability of _not_ seeing it\n",
    "        # which is log(1 - probability of seeing it)\n",
    "        else:\n",
    "            log_prob_if_spam += math.log(1.0 - prob_if_spam)\n",
    "            log_prob_if_not_spam += math.log(1.0 - prob_if_not_spam)\n",
    "            \n",
    "    prob_if_spam = math.exp(log_prob_if_spam) # this is P(W = w| S) from RHS of Bayes Formula\n",
    "    prob_if_not_spam = math.exp(log_prob_if_not_spam) # this is P(W = w|~S)\n",
    "    return prob_if_spam / (prob_if_spam + prob_if_not_spam)"
   ]
  },
  {
   "cell_type": "code",
   "execution_count": 7,
   "metadata": {
    "collapsed": true
   },
   "outputs": [],
   "source": [
    "class NaiveBayesClassifier:\n",
    "    \n",
    "    def __init__(self, k=0.5):\n",
    "        self.k = k\n",
    "        self.word_probs = []\n",
    "        \n",
    "    def train(self, training_set):\n",
    "        \n",
    "        # count spam and non-spam messages \n",
    "        num_spams = len([is_spam\n",
    "                        for message, is_spam in training_set\n",
    "                        if is_spam])\n",
    "        num_non_spams = len(training_set) - num_spams\n",
    "        \n",
    "        # run training data through our \"pipeline\"\n",
    "        word_counts = count_words(training_set) # {word: [spam_count, non_spam_count], ...}\n",
    "        self.word_probs = word_probabilities(word_counts,\n",
    "                                             num_spams,\n",
    "                                             num_non_spams,\n",
    "                                             self.k)\n",
    "    def classify(self, message):\n",
    "        return spam_probability(self.word_probs, message) # P(Spam | message)"
   ]
  },
  {
   "cell_type": "markdown",
   "metadata": {},
   "source": [
    "<h2>Testing the Model</h2>"
   ]
  },
  {
   "cell_type": "code",
   "execution_count": 16,
   "metadata": {
    "collapsed": false
   },
   "outputs": [],
   "source": [
    "import glob, re\n",
    "\n",
    "path = r\"emails/*/*\"\n",
    "\n",
    "data = []\n",
    "\n",
    "# glob.glob returns every filename that matches the wildcarded path\n",
    "for fn in glob.glob(path):        # for each file in the path\n",
    "        is_spam = \"ham\" not in fn # if ham is not in fn return True, else False\n",
    "        \n",
    "        with open(fn,'r') as file:\n",
    "            for line in file:\n",
    "                if line.startswith(\"Subject:\"):\n",
    "                    # remove the leading \"Subject: \" and keep what's left\n",
    "                    subject = re.sub(r\"^Subject: \", \"\", line).strip() # strip removes leading and trailing whitespace\n",
    "                    data.append((subject, is_spam)) # append 2-tuple to data list (email subject, is_spam Boolean)"
   ]
  },
  {
   "cell_type": "code",
   "execution_count": 17,
   "metadata": {
    "collapsed": true
   },
   "outputs": [],
   "source": [
    "import random\n",
    "def split_data(data, prob):\n",
    "    \"\"\"split data into fractions [prob, 1 - prob]\"\"\"\n",
    "    results = [], []\n",
    "    for row in data:\n",
    "        results[0 if random.random() < prob else 1].append(row)\n",
    "    return results"
   ]
  },
  {
   "cell_type": "code",
   "execution_count": 18,
   "metadata": {
    "collapsed": true
   },
   "outputs": [],
   "source": [
    "random.seed(0)\n",
    "train_data, test_data = split_data(data, 0.75)\n",
    "\n",
    "classifier = NaiveBayesClassifier()\n",
    "classifier.train(train_data)"
   ]
  },
  {
   "cell_type": "code",
   "execution_count": 19,
   "metadata": {
    "collapsed": false
   },
   "outputs": [
    {
     "name": "stdout",
     "output_type": "stream",
     "text": [
      "Counter({(False, False): 704, (True, True): 101, (True, False): 38, (False, True): 33})\n"
     ]
    }
   ],
   "source": [
    "from collections import Counter\n",
    "\n",
    "# triples (subject, actual is_spam, predicted spam probability)\n",
    "classified = [(subject, is_spam, classifier.classify(subject))\n",
    "               for subject, is_spam in test_data]\n",
    "\n",
    "# assume that spam_probability > 0.5 corresponds to spam prediction\n",
    "# and count the combinations of (actual is_spam, predicted is_spam)\n",
    "counts = Counter((is_spam, spam_probability > 0.5)\n",
    "                for _, is_spam, spam_probability in classified)\n",
    "\n",
    "print counts"
   ]
  },
  {
   "cell_type": "code",
   "execution_count": 27,
   "metadata": {
    "collapsed": false
   },
   "outputs": [
    {
     "name": "stdout",
     "output_type": "stream",
     "text": [
      "precision is 75.4% and recall is 72.7%\n"
     ]
    }
   ],
   "source": [
    "true_pos = counts[(True, True)] \n",
    "false_pos = counts[(False, True)]\n",
    "true_neg = counts[(False, False)]\n",
    "false_neg = counts[(True, False)]\n",
    "\n",
    "precision = (true_pos / (true_pos + false_pos))*100\n",
    "recall = (true_pos / (true_pos + false_neg))*100\n",
    "\n",
    "print \"precision is %.1f%% and recall is %.1f%%\" % (precision, recall)"
   ]
  },
  {
   "cell_type": "code",
   "execution_count": null,
   "metadata": {
    "collapsed": true
   },
   "outputs": [],
   "source": []
  }
 ],
 "metadata": {
  "kernelspec": {
   "display_name": "Python 2",
   "language": "python",
   "name": "python2"
  },
  "language_info": {
   "codemirror_mode": {
    "name": "ipython",
    "version": 2
   },
   "file_extension": ".py",
   "mimetype": "text/x-python",
   "name": "python",
   "nbconvert_exporter": "python",
   "pygments_lexer": "ipython2",
   "version": "2.7.10"
  }
 },
 "nbformat": 4,
 "nbformat_minor": 0
}
