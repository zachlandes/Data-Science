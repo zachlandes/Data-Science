{
 "cells": [
  {
   "cell_type": "markdown",
   "metadata": {},
   "source": [
    "<h2> Naive Bayes Spam Filter </h2>\n",
    "<p>We're going to compute: P(Spam| Words = words) = P(W = w| S) / [P(W = w| S) + P(W = w|~S)] <br />\n",
    "\n",
    "Notice this implementation of Bayes' Rule includes the prior that P(Spam) = P(~Spam) = .5 <br />\n",
    "\n",
    "Actual computations will be performed with log probabilities to avoid underflow</p>"
   ]
  },
  {
   "cell_type": "code",
   "execution_count": 5,
   "metadata": {
    "collapsed": true
   },
   "outputs": [],
   "source": [
    "#imports\n",
    "%matplotlib inline\n",
    "from __future__ import division\n",
    "import re\n",
    "from matplotlib import pyplot as plt\n",
    "from collections import defaultdict\n",
    "import math"
   ]
  },
  {
   "cell_type": "code",
   "execution_count": 2,
   "metadata": {
    "collapsed": true
   },
   "outputs": [],
   "source": [
    "def tokenize(message):\n",
    "    message = message.lower()                      # convert to lowercase\n",
    "    all_words = re.findall(\"[a-z0-9']+\", message)  # extract the words\n",
    "    return set(all_words)                          # remove duplicates (in np use np.unique)"
   ]
  },
  {
   "cell_type": "code",
   "execution_count": 3,
   "metadata": {
    "collapsed": true
   },
   "outputs": [],
   "source": [
    "def count_words(training_set):\n",
    "    \"\"\"training set consists of pairs (message, is_spam)\"\"\"\n",
    "    counts = defaultdict(lambda: [0, 0])           # when looking up a key, it first creates a value [0,0]\n",
    "    for message, is_spam in training_set:          # look through all the training set data of labeled emails\n",
    "        for word in tokenize(message):             # look at each unique word in the tokenized version of the email\n",
    "            counts[word][0 if is_spam else 1] += 1 # if in spam email, {word: [x + 1, y]} if not {word: [x, y + 1]}\n",
    "    return counts"
   ]
  },
  {
   "cell_type": "code",
   "execution_count": 4,
   "metadata": {
    "collapsed": true
   },
   "outputs": [],
   "source": [
    "# creating estimated probabilities with pseudocount smoothing for words not in training set\n",
    "def word_probabilities(counts, total_spams, total_non_spams, k=0.5):\n",
    "    \"\"\"turn the word_counts into a list of triplets (word, P(word|spam), P(word|-spam))\"\"\"\n",
    "    return [(w,                                           # word\n",
    "            (spam + k) / (total_spams + 2 * k),           # # of spam emails with that word + k / # of spam emails + 2k\n",
    "            (non_spam + k) / (total_non_spams + 2 * k))   # smoothed proportion of all non spam emails with that word\n",
    "           for w, (spam, non_spam) in counts.iteritems()] # do this for each word, thus returning a list of 3-tuples"
   ]
  },
  {
   "cell_type": "code",
   "execution_count": 6,
   "metadata": {
    "collapsed": true
   },
   "outputs": [],
   "source": [
    "# assign spam probabilities to messages\n",
    "def spam_probability(word_probs, message):              # notice this f'n evaluates a single message\n",
    "    message_words = tokenize(message)\n",
    "    log_prob_if_spam = log_prob_if_not_spam = 0.0\n",
    "    \n",
    "    # iterate through each word in our vocabulary\n",
    "    for word, prob_if_spam, prob_if_not_spam in word_probs:\n",
    "        \n",
    "        # if *word* from training set vocab appears in the message add the log probability of seeing it\n",
    "        if word in message_words:\n",
    "            log_prob_if_spam += math.log(prob_if_spam)\n",
    "            log_prob_if_not_spam += math.log(prob_if_not_spam)\n",
    "            \n",
    "        # if *word* doesn't appear in the message add the log probability of _not_ seeing it\n",
    "        # which is log(1 - probability of seeing it)\n",
    "        else:\n",
    "            log_prob_if_spam += math.log(1.0 - prob_if_spam)\n",
    "            log_prob_if_not_spam += math.log(1.0 - prob_if_not_spam)\n",
    "            \n",
    "    prob_if_spam = math.exp(log_prob_if_spam) # this is P(W = w| S) from RHS of Bayes Formula\n",
    "    prob_if_not_spam = math.exp(log_prob_if_not_spam) # this is P(W = w|~S)\n",
    "    return prob_if_spam / (prob_if_spam + prob_if_not_spam)"
   ]
  },
  {
   "cell_type": "code",
   "execution_count": 7,
   "metadata": {
    "collapsed": true
   },
   "outputs": [],
   "source": [
    "class NaiveBayesClassifier:\n",
    "    \n",
    "    def __init__(self, k=0.5):\n",
    "        self.k = k\n",
    "        self.word_probs = []\n",
    "        \n",
    "    def train(self, training_set):\n",
    "        \n",
    "        # count spam and non-spam messages \n",
    "        num_spams = len([is_spam\n",
    "                        for message, is_spam in training_set\n",
    "                        if is_spam])\n",
    "        num_non_spams = len(training_set) - num_spams\n",
    "        \n",
    "        # run training data through our \"pipeline\"\n",
    "        word_counts = count_words(training_set) # {word: [spam_count, non_spam_count], ...}\n",
    "        self.word_probs = word_probabilities(word_counts,\n",
    "                                             num_spams,\n",
    "                                             num_non_spams,\n",
    "                                             self.k)\n",
    "    def classify(self, message):\n",
    "        return spam_probability(self.word_probs, message)"
   ]
  },
  {
   "cell_type": "code",
   "execution_count": null,
   "metadata": {
    "collapsed": true
   },
   "outputs": [],
   "source": []
  }
 ],
 "metadata": {
  "kernelspec": {
   "display_name": "Python 2",
   "language": "python",
   "name": "python2"
  },
  "language_info": {
   "codemirror_mode": {
    "name": "ipython",
    "version": 2
   },
   "file_extension": ".py",
   "mimetype": "text/x-python",
   "name": "python",
   "nbconvert_exporter": "python",
   "pygments_lexer": "ipython2",
   "version": "2.7.10"
  }
 },
 "nbformat": 4,
 "nbformat_minor": 0
}
