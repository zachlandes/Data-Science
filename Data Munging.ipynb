{
 "cells": [
  {
   "cell_type": "code",
   "execution_count": 1,
   "metadata": {
    "collapsed": true
   },
   "outputs": [],
   "source": [
    "def parse_row(input_row, parsers):\n",
    "    \"\"\"given a list of parsers (some of which may be None)\n",
    "    apply the appropriate one to each element of the input_row\"\"\"\n",
    "    \n",
    "    return [parser(value) if parser is not None else value\n",
    "           for value, parser in zip(input_row, parsers)] # in [(col'n 1, col'n 1 parser), ...,(col'n n, col'n n parser)]\n",
    "\n",
    "def parse_rows_with(reader, parsers):\n",
    "    \"\"\"wrap a reader to apply the parsers to each of its rows\"\"\"\n",
    "    for row in reader:\n",
    "        yield parse_row(row, parsers)\n"
   ]
  },
  {
   "cell_type": "code",
   "execution_count": 11,
   "metadata": {
    "collapsed": true
   },
   "outputs": [],
   "source": [
    "def try_or_none(f):\n",
    "    \"\"\"wraps f to return None if f raises an exception\n",
    "    assumes f takes only one input\"\"\"\n",
    "    def f_or_none(x):\n",
    "        try: return f(x)\n",
    "        except: return None\n",
    "    return f_or_none\n",
    "\n",
    "def parse_row(input_row, parsers):\n",
    "    return [try_or_none(parser)(value) if parser is not None else value\n",
    "           for value, parser in zip(input_row, parsers)]\n"
   ]
  },
  {
   "cell_type": "code",
   "execution_count": 17,
   "metadata": {
    "collapsed": false
   },
   "outputs": [
    {
     "name": "stdout",
     "output_type": "stream",
     "text": [
      "[datetime.datetime(2014, 6, 19, 0, 0), 'MSFT', None]\n"
     ]
    }
   ],
   "source": [
    "import dateutil.parser\n",
    "import csv\n",
    "\n",
    "data = []\n",
    "\n",
    "with open(\"comma_delimited_stock_prices.csv\", \"rU\") as f:\n",
    "    reader = csv.reader(f)\n",
    "    for line in parse_rows_with(reader, [dateutil.parser.parse, None, float]):\n",
    "        data.append(line)\n",
    "        \n",
    "for row in data:\n",
    "    if any(x is None for x in row):\n",
    "        print row\n",
    "        "
   ]
  },
  {
   "cell_type": "code",
   "execution_count": 22,
   "metadata": {
    "collapsed": true
   },
   "outputs": [],
   "source": [
    "def try_parse_field(field_name, value, parser_dict):\n",
    "    \"\"\"try to parse value using the appropriate function from parser_dict\"\"\"\n",
    "    parser = parser_dict.get(field_name) # None if no such entry\n",
    "    if parser is not None:\n",
    "        return try_or_none(parser)(value)\n",
    "    else:\n",
    "        return value\n",
    "    \n",
    "def parse_dict(input_dict, parser_dict):\n",
    "    return { field_name : try_parse_field(field_name, value, parser_dict)\n",
    "            for field_name, value in input_dict.iteritems() }\n"
   ]
  },
  {
   "cell_type": "code",
   "execution_count": null,
   "metadata": {
    "collapsed": true
   },
   "outputs": [],
   "source": []
  }
 ],
 "metadata": {
  "kernelspec": {
   "display_name": "Python 2",
   "language": "python",
   "name": "python2"
  },
  "language_info": {
   "codemirror_mode": {
    "name": "ipython",
    "version": 2
   },
   "file_extension": ".py",
   "mimetype": "text/x-python",
   "name": "python",
   "nbconvert_exporter": "python",
   "pygments_lexer": "ipython2",
   "version": "2.7.10"
  }
 },
 "nbformat": 4,
 "nbformat_minor": 0
}
