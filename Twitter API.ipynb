{
 "cells": [
  {
   "cell_type": "code",
   "execution_count": 48,
   "metadata": {
    "collapsed": false
   },
   "outputs": [],
   "source": [
    "import json\n",
    "import functools\n",
    "\n",
    "def json_parse(fileobj, decoder=json.JSONDecoder(), buffersize=2048, \n",
    "               delimiters=None):\n",
    "    remainder = ''\n",
    "    for chunk in iter(functools.partial(fileobj.read, buffersize), ''):\n",
    "        remainder += chunk\n",
    "        while remainder:\n",
    "            try:\n",
    "                stripped = remainder.strip(delimiters)\n",
    "                result, index = decoder.raw_decode(stripped)\n",
    "                yield result\n",
    "                remainder = stripped[index:]\n",
    "            except ValueError:\n",
    "                # Not enough data to decode, read more\n",
    "                break\n",
    "                \n",
    "#with open('twitter_credentials.json', 'r') as infh:\n",
    "   #for data in json_parse(infh):\n",
    "    "
   ]
  },
  {
   "cell_type": "code",
   "execution_count": 29,
   "metadata": {
    "collapsed": false
   },
   "outputs": [
    {
     "name": "stdout",
     "output_type": "stream",
     "text": [
      "bigboardsio : RT @KirkDBorne: The Future of Social Science Research—A #DataScience perspective: http://t.co/lwEpoY4n2M #BigData #Analytics HT @AlexCEngle…\n",
      "\n",
      "bigboardsio : RT @iLudenus: \"Why So Many ‘Fake’ Data Scientists?\" on Data Science Central: http://t.co/FN51AaTgFA? #DataScience\n",
      "\n",
      "CIBBVA : Get up to date on #DataScience with these four tutorials: http://t.co/Myv17sCR8f #BigData\n",
      "\n",
      "katykat : The future of data science looks spectacular http://t.co/fPcdy2b0rw - Wow!! #D4CCR @1n9r1d @WilliamsAndrewP @FCTweedie @patricks_n #datavis\n",
      "\n",
      "ColumbusNewzer : ITJobsOhio ★ JOB ★ #hiring #ITJob #Job #Columbus - Data Science Team Lead - IBM Client Center for… http://t.co/oFnRXCT9HD ☜ view details …\n",
      "\n",
      "sananth99 : The future of data science looks spectacular http://t.co/B6TLtaTu6b via @ConversationEDU\n",
      "\n",
      "data_nerd : Data Science is real » Proud to be part of 25 Most Influential #WomenLeaders http://t.co/CTt2BKUd27\n",
      "\n",
      "homeAIinfo : RT @iLudenus: \"Why So Many ‘Fake’ Data Scientists?\" on Data Science Central: http://t.co/FN51AaTgFA? #DataScience\n",
      "\n",
      "icMICS : RT @hrbrmstr: *Great* opportunity for new grads interested in Security Data Science // Job Ads: Cloud Cybercrime Centre http://t.co/Fj1LNFq…\n",
      "\n",
      "mikejulietbravo : RT @KirkDBorne: The Future of Social Science Research—A #DataScience perspective: http://t.co/lwEpoY4n2M #BigData #Analytics HT @AlexCEngle…\n",
      "\n",
      "zack415 : @hackerrank I keep pushing her to learn a broader data science skill set so that she can make the big bucks now that she's working in tech.\n",
      "\n",
      "jayjacobs : RT @hrbrmstr: *Great* opportunity for new grads interested in Security Data Science // Job Ads: Cloud Cybercrime Centre http://t.co/Fj1LNFq…\n",
      "\n",
      "prjorgensen : RT @hrbrmstr: *Great* opportunity for new grads interested in Security Data Science // Job Ads: Cloud Cybercrime Centre http://t.co/Fj1LNFq…\n",
      "\n",
      "DrAndyPardoe : RT @DataScienceRR: 31 external machine learning / data science resources and articles http://t.co/orpcROZdtS http://t.co/xphTJWtBbE\n",
      "\n",
      "DrAndyPardoe : RT @KirkDBorne: The Future of Social Science Research—A #DataScience perspective: http://t.co/lwEpoY4n2M #BigData #Analytics HT @AlexCEngle…\n",
      "\n"
     ]
    }
   ],
   "source": [
    "from twython import Twython\n",
    "\n",
    "twitter = Twython(\"MsnyhwYeqp2iyD3m9j4LpkaUT\", \"yCriq35NkECHRPLzW4Xzsa76IPOvGOwI2sZi57DnjTirgRxAM0\")\n",
    "\n",
    "# search for tweets containing the phrase \"data science\"\n",
    "for status in twitter.search(q='\"data science\"')['statuses']:\n",
    "    user = status[\"user\"][\"screen_name\"].encode('utf-8')\n",
    "    text = status[\"text\"].encode('utf-8')\n",
    "    print user, \":\", text\n",
    "    print"
   ]
  },
  {
   "cell_type": "code",
   "execution_count": 51,
   "metadata": {
    "collapsed": false
   },
   "outputs": [],
   "source": [
    "from twython import TwythonStreamer\n",
    "\n",
    "tweets = []\n",
    "\n",
    "class MyStreamer(TwythonStreamer):\n",
    "    \"\"\"our own subclass of TwythonStreamer that specifies how to interact with the stream\"\"\"\n",
    "    \n",
    "    def on_success(self, data):\n",
    "        \"\"\"what do we do when twitter sends us data?\n",
    "        here data will be a Python dict representing a tweet\"\"\"\n",
    "        \n",
    "        # only want to collect English-language tweets\n",
    "        if data['lang'] == 'en':\n",
    "            tweets.append(data)\n",
    "            print \"received tweet #\", len(tweets)\n",
    "            \n",
    "        # stop when we've collected enough\n",
    "        if len(tweets) >= 150:\n",
    "            self.disconnect()\n",
    "        \n",
    "    def on_error(self, status_code, data):\n",
    "        print status_code, data\n",
    "        self.disconnect()"
   ]
  },
  {
   "cell_type": "code",
   "execution_count": null,
   "metadata": {
    "collapsed": false
   },
   "outputs": [
    {
     "name": "stdout",
     "output_type": "stream",
     "text": [
      "received tweet # 1\n",
      "received tweet # 2\n",
      "received tweet # 3\n",
      "received tweet # 4\n",
      "received tweet # 5\n",
      "received tweet # 6\n",
      "received tweet # 7\n",
      "received tweet # 8\n",
      "received tweet # 9\n",
      "received tweet # 10\n",
      "received tweet # 11\n",
      "received tweet # 12\n",
      "received tweet # 13\n",
      "received tweet # 14\n",
      "received tweet # 15\n",
      "received tweet # 16\n",
      "received tweet # 17\n",
      "received tweet # 18\n",
      "received tweet # 19\n",
      "received tweet # 20\n",
      "received tweet # 21\n",
      "received tweet # 22\n",
      "received tweet # 23\n",
      "received tweet #"
     ]
    }
   ],
   "source": [
    "with open('twitter_credentials.json', 'r') as creds:\n",
    "    for data in json_parse(creds):\n",
    "        stream = MyStreamer(data[\"Consumer_Key\"],\n",
    "                            data[\"Consumer_Secret\"],\n",
    "                            data[\"Access_Token\"],\n",
    "                            data[\"Access_Token_Secret\"])\n",
    "\n",
    "# starts consuming public statuses that contain the keyword 'data'\n",
    "stream.statuses.filter(track='data')"
   ]
  },
  {
   "cell_type": "code",
   "execution_count": 47,
   "metadata": {
    "collapsed": false
   },
   "outputs": [
    {
     "name": "stdout",
     "output_type": "stream",
     "text": [
      "[(u'data', 12), (u'news', 4), (u'thread5', 3), (u'sydconf15', 3), (u'mark', 3)]\n"
     ]
    }
   ],
   "source": [
    "from collections import Counter\n",
    "top_hashtags = Counter(hashtag['text'].lower()\n",
    "                      for tweet in tweets\n",
    "                      for hashtag in tweet[\"entities\"][\"hashtags\"])\n",
    "print top_hashtags.most_common(5)"
   ]
  },
  {
   "cell_type": "code",
   "execution_count": null,
   "metadata": {
    "collapsed": true
   },
   "outputs": [],
   "source": []
  }
 ],
 "metadata": {
  "kernelspec": {
   "display_name": "Python 2",
   "language": "python",
   "name": "python2"
  },
  "language_info": {
   "codemirror_mode": {
    "name": "ipython",
    "version": 2
   },
   "file_extension": ".py",
   "mimetype": "text/x-python",
   "name": "python",
   "nbconvert_exporter": "python",
   "pygments_lexer": "ipython2",
   "version": "2.7.10"
  }
 },
 "nbformat": 4,
 "nbformat_minor": 0
}
